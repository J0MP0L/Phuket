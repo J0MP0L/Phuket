{
 "cells": [
  {
   "cell_type": "code",
   "execution_count": 1,
   "metadata": {},
   "outputs": [],
   "source": [
    "import json\n",
    "import pandas as pd\n",
    "import plotly.io as pio\n",
    "import plotly.express as px"
   ]
  },
  {
   "cell_type": "code",
   "execution_count": 2,
   "metadata": {},
   "outputs": [
    {
     "name": "stderr",
     "output_type": "stream",
     "text": [
      "/var/folders/jm/hx406fwn5ql4cjk_zqccfpqw0000gn/T/ipykernel_65065/431622959.py:3: FutureWarning: ChainedAssignmentError: behaviour will change in pandas 3.0!\n",
      "You are setting values through chained assignment. Currently this works in certain cases, but when using Copy-on-Write (which will become the default behaviour in pandas 3.0) this will never work to update the original DataFrame or Series, because the intermediate object on which we are setting values will behave as a copy.\n",
      "A typical example is when you are setting values in a column of a DataFrame, like:\n",
      "\n",
      "df[\"col\"][row_indexer] = value\n",
      "\n",
      "Use `df.loc[row_indexer, \"col\"] = values` instead, to perform the assignment in a single step and ensure this keeps updating the original `df`.\n",
      "\n",
      "See the caveats in the documentation: https://pandas.pydata.org/pandas-docs/stable/user_guide/indexing.html#returning-a-view-versus-a-copy\n",
      "\n",
      "  df[\"Province\"][45]=\"bangkokmetropolis\"\n",
      "/var/folders/jm/hx406fwn5ql4cjk_zqccfpqw0000gn/T/ipykernel_65065/431622959.py:3: SettingWithCopyWarning: \n",
      "A value is trying to be set on a copy of a slice from a DataFrame\n",
      "\n",
      "See the caveats in the documentation: https://pandas.pydata.org/pandas-docs/stable/user_guide/indexing.html#returning-a-view-versus-a-copy\n",
      "  df[\"Province\"][45]=\"bangkokmetropolis\"\n"
     ]
    }
   ],
   "source": [
    "df=pd.read_excel('3_20250123_Rice visualization.xlsx',sheet_name=\"Area distribution number\")\n",
    "df.drop(index=21, inplace=True)\n",
    "df[\"Province\"][45]=\"bangkokmetropolis\""
   ]
  },
  {
   "cell_type": "code",
   "execution_count": 3,
   "metadata": {},
   "outputs": [],
   "source": [
    "df2=df.iloc[62:]"
   ]
  },
  {
   "cell_type": "code",
   "execution_count": 4,
   "metadata": {},
   "outputs": [
    {
     "data": {
      "text/html": [
       "<div>\n",
       "<style scoped>\n",
       "    .dataframe tbody tr th:only-of-type {\n",
       "        vertical-align: middle;\n",
       "    }\n",
       "\n",
       "    .dataframe tbody tr th {\n",
       "        vertical-align: top;\n",
       "    }\n",
       "\n",
       "    .dataframe thead th {\n",
       "        text-align: right;\n",
       "    }\n",
       "</style>\n",
       "<table border=\"1\" class=\"dataframe\">\n",
       "  <thead>\n",
       "    <tr style=\"text-align: right;\">\n",
       "      <th></th>\n",
       "      <th>No.</th>\n",
       "      <th>จังหวัด</th>\n",
       "      <th>Province</th>\n",
       "      <th>Region_TH</th>\n",
       "      <th>Region_EN</th>\n",
       "      <th>&lt;2 ไร่</th>\n",
       "      <th>2 - 6 ไร่</th>\n",
       "      <th>6 - 10 ไร่</th>\n",
       "      <th>10 - 12 ไร่</th>\n",
       "      <th>20 - 40 ไร่</th>\n",
       "      <th>40 - 60 ไร่</th>\n",
       "      <th>60 - 100 ไร่</th>\n",
       "      <th>100 - 140 ไร่</th>\n",
       "      <th>&gt; 140 ไร่</th>\n",
       "      <th>รวม</th>\n",
       "      <th>เนื้อที่เพาะปลุกต่อครัวเรือน</th>\n",
       "    </tr>\n",
       "  </thead>\n",
       "  <tbody>\n",
       "    <tr>\n",
       "      <th>63</th>\n",
       "      <td>73</td>\n",
       "      <td>ชุมพร</td>\n",
       "      <td>CHUMPHON</td>\n",
       "      <td>ภาคใต้</td>\n",
       "      <td>SOUTH</td>\n",
       "      <td>43</td>\n",
       "      <td>219</td>\n",
       "      <td>194</td>\n",
       "      <td>76</td>\n",
       "      <td>8</td>\n",
       "      <td>-</td>\n",
       "      <td>-</td>\n",
       "      <td>-</td>\n",
       "      <td>-</td>\n",
       "      <td>540</td>\n",
       "      <td>5.88</td>\n",
       "    </tr>\n",
       "    <tr>\n",
       "      <th>64</th>\n",
       "      <td>74</td>\n",
       "      <td>ระนอง</td>\n",
       "      <td>RANONG</td>\n",
       "      <td>ภาคใต้</td>\n",
       "      <td>SOUTH</td>\n",
       "      <td>4</td>\n",
       "      <td>31</td>\n",
       "      <td>22</td>\n",
       "      <td>10</td>\n",
       "      <td>-</td>\n",
       "      <td>-</td>\n",
       "      <td>-</td>\n",
       "      <td>-</td>\n",
       "      <td>-</td>\n",
       "      <td>67</td>\n",
       "      <td>10.09</td>\n",
       "    </tr>\n",
       "    <tr>\n",
       "      <th>65</th>\n",
       "      <td>75</td>\n",
       "      <td>สุราษฎร์ธานี</td>\n",
       "      <td>SURAT THANI</td>\n",
       "      <td>ภาคใต้</td>\n",
       "      <td>SOUTH</td>\n",
       "      <td>70</td>\n",
       "      <td>629</td>\n",
       "      <td>413</td>\n",
       "      <td>299</td>\n",
       "      <td>98</td>\n",
       "      <td>-</td>\n",
       "      <td>-</td>\n",
       "      <td>-</td>\n",
       "      <td>-</td>\n",
       "      <td>1509</td>\n",
       "      <td>23.88</td>\n",
       "    </tr>\n",
       "    <tr>\n",
       "      <th>66</th>\n",
       "      <td>76</td>\n",
       "      <td>พังงา</td>\n",
       "      <td>PHANG NGA</td>\n",
       "      <td>ภาคใต้</td>\n",
       "      <td>SOUTH</td>\n",
       "      <td>39</td>\n",
       "      <td>141</td>\n",
       "      <td>86</td>\n",
       "      <td>27</td>\n",
       "      <td>-</td>\n",
       "      <td>-</td>\n",
       "      <td>-</td>\n",
       "      <td>-</td>\n",
       "      <td>-</td>\n",
       "      <td>293</td>\n",
       "      <td>9.37</td>\n",
       "    </tr>\n",
       "    <tr>\n",
       "      <th>67</th>\n",
       "      <td>77</td>\n",
       "      <td>ภูเก็ต</td>\n",
       "      <td>PHUKET</td>\n",
       "      <td>ภาคใต้</td>\n",
       "      <td>SOUTH</td>\n",
       "      <td>-</td>\n",
       "      <td>1</td>\n",
       "      <td>6</td>\n",
       "      <td>-</td>\n",
       "      <td>-</td>\n",
       "      <td>-</td>\n",
       "      <td>-</td>\n",
       "      <td>-</td>\n",
       "      <td>-</td>\n",
       "      <td>7</td>\n",
       "      <td>9.86</td>\n",
       "    </tr>\n",
       "  </tbody>\n",
       "</table>\n",
       "</div>"
      ],
      "text/plain": [
       "    No.       จังหวัด     Province Region_TH Region_EN <2 ไร่  2 - 6 ไร่  \\\n",
       "63   73         ชุมพร     CHUMPHON    ภาคใต้     SOUTH     43        219   \n",
       "64   74         ระนอง       RANONG    ภาคใต้     SOUTH      4         31   \n",
       "65   75  สุราษฎร์ธานี  SURAT THANI    ภาคใต้     SOUTH     70        629   \n",
       "66   76         พังงา    PHANG NGA    ภาคใต้     SOUTH     39        141   \n",
       "67   77        ภูเก็ต       PHUKET    ภาคใต้     SOUTH      -          1   \n",
       "\n",
       "    6 - 10 ไร่ 10 - 12 ไร่ 20 - 40 ไร่ 40 - 60 ไร่ 60 - 100 ไร่ 100 - 140 ไร่  \\\n",
       "63         194          76           8           -            -             -   \n",
       "64          22          10           -           -            -             -   \n",
       "65         413         299          98           -            -             -   \n",
       "66          86          27           -           -            -             -   \n",
       "67           6           -           -           -            -             -   \n",
       "\n",
       "   > 140 ไร่   รวม  เนื้อที่เพาะปลุกต่อครัวเรือน  \n",
       "63         -   540                          5.88  \n",
       "64         -    67                         10.09  \n",
       "65         -  1509                         23.88  \n",
       "66         -   293                          9.37  \n",
       "67         -     7                          9.86  "
      ]
     },
     "execution_count": 4,
     "metadata": {},
     "output_type": "execute_result"
    }
   ],
   "source": [
    "df2.head()"
   ]
  },
  {
   "cell_type": "code",
   "execution_count": 19,
   "metadata": {},
   "outputs": [
    {
     "data": {
      "application/vnd.plotly.v1+json": {
       "config": {
        "plotlyServerURL": "https://plot.ly"
       },
       "data": [
        {
         "alignmentgroup": "True",
         "hovertemplate": "ขนาดที่ดิน=<2 ไร่<br>Province=%{x}<br>จำนวนที่ดิน=%{y}<extra></extra>",
         "legendgroup": "<2 ไร่",
         "marker": {
          "color": "#636efa",
          "pattern": {
           "shape": ""
          }
         },
         "name": "<2 ไร่",
         "offsetgroup": "<2 ไร่",
         "orientation": "v",
         "showlegend": true,
         "textposition": "auto",
         "type": "bar",
         "x": [
          "CHUMPHON",
          "RANONG",
          "SURAT THANI",
          "PHANG NGA",
          "PHUKET",
          "KRABI",
          "TRANG",
          "NAKHON SI THAMMARAT",
          "PHATTHALUNG",
          "SONGKHLA",
          "SATUN",
          "PATTANI",
          "YALA",
          "NARATHIWAT"
         ],
         "xaxis": "x",
         "y": [
          43,
          4,
          70,
          39,
          "-",
          60,
          116,
          434,
          1404,
          722,
          589,
          607,
          123,
          249
         ],
         "yaxis": "y"
        },
        {
         "alignmentgroup": "True",
         "hovertemplate": "ขนาดที่ดิน=2 - 6 ไร่<br>Province=%{x}<br>จำนวนที่ดิน=%{y}<extra></extra>",
         "legendgroup": "2 - 6 ไร่",
         "marker": {
          "color": "#EF553B",
          "pattern": {
           "shape": ""
          }
         },
         "name": "2 - 6 ไร่",
         "offsetgroup": "2 - 6 ไร่",
         "orientation": "v",
         "showlegend": true,
         "textposition": "auto",
         "type": "bar",
         "x": [
          "CHUMPHON",
          "RANONG",
          "SURAT THANI",
          "PHANG NGA",
          "PHUKET",
          "KRABI",
          "TRANG",
          "NAKHON SI THAMMARAT",
          "PHATTHALUNG",
          "SONGKHLA",
          "SATUN",
          "PATTANI",
          "YALA",
          "NARATHIWAT"
         ],
         "xaxis": "x",
         "y": [
          219,
          31,
          629,
          141,
          1,
          347,
          1006,
          3650,
          5992,
          3249,
          3213,
          4466,
          1979,
          5502
         ],
         "yaxis": "y"
        },
        {
         "alignmentgroup": "True",
         "hovertemplate": "ขนาดที่ดิน=6 - 10 ไร่<br>Province=%{x}<br>จำนวนที่ดิน=%{y}<extra></extra>",
         "legendgroup": "6 - 10 ไร่",
         "marker": {
          "color": "#00cc96",
          "pattern": {
           "shape": ""
          }
         },
         "name": "6 - 10 ไร่",
         "offsetgroup": "6 - 10 ไร่",
         "orientation": "v",
         "showlegend": true,
         "textposition": "auto",
         "type": "bar",
         "x": [
          "CHUMPHON",
          "RANONG",
          "SURAT THANI",
          "PHANG NGA",
          "PHUKET",
          "KRABI",
          "TRANG",
          "NAKHON SI THAMMARAT",
          "PHATTHALUNG",
          "SONGKHLA",
          "SATUN",
          "PATTANI",
          "YALA",
          "NARATHIWAT"
         ],
         "xaxis": "x",
         "y": [
          194,
          22,
          413,
          86,
          6,
          177,
          313,
          3503,
          3819,
          3282,
          857,
          4531,
          2693,
          997
         ],
         "yaxis": "y"
        },
        {
         "alignmentgroup": "True",
         "hovertemplate": "ขนาดที่ดิน=10 - 12 ไร่<br>Province=%{x}<br>จำนวนที่ดิน=%{y}<extra></extra>",
         "legendgroup": "10 - 12 ไร่",
         "marker": {
          "color": "#ab63fa",
          "pattern": {
           "shape": ""
          }
         },
         "name": "10 - 12 ไร่",
         "offsetgroup": "10 - 12 ไร่",
         "orientation": "v",
         "showlegend": true,
         "textposition": "auto",
         "type": "bar",
         "x": [
          "CHUMPHON",
          "RANONG",
          "SURAT THANI",
          "PHANG NGA",
          "PHUKET",
          "KRABI",
          "TRANG",
          "NAKHON SI THAMMARAT",
          "PHATTHALUNG",
          "SONGKHLA",
          "SATUN",
          "PATTANI",
          "YALA",
          "NARATHIWAT"
         ],
         "xaxis": "x",
         "y": [
          76,
          10,
          299,
          27,
          "-",
          96,
          198,
          4165,
          3485,
          5024,
          242,
          1460,
          86,
          940
         ],
         "yaxis": "y"
        },
        {
         "alignmentgroup": "True",
         "hovertemplate": "ขนาดที่ดิน=20 - 40 ไร่<br>Province=%{x}<br>จำนวนที่ดิน=%{y}<extra></extra>",
         "legendgroup": "20 - 40 ไร่",
         "marker": {
          "color": "#FFA15A",
          "pattern": {
           "shape": ""
          }
         },
         "name": "20 - 40 ไร่",
         "offsetgroup": "20 - 40 ไร่",
         "orientation": "v",
         "showlegend": true,
         "textposition": "auto",
         "type": "bar",
         "x": [
          "CHUMPHON",
          "RANONG",
          "SURAT THANI",
          "PHANG NGA",
          "PHUKET",
          "KRABI",
          "TRANG",
          "NAKHON SI THAMMARAT",
          "PHATTHALUNG",
          "SONGKHLA",
          "SATUN",
          "PATTANI",
          "YALA",
          "NARATHIWAT"
         ],
         "xaxis": "x",
         "y": [
          8,
          "-",
          98,
          "-",
          "-",
          "-",
          "-",
          3956,
          934,
          2291,
          "-",
          121,
          "-",
          "-"
         ],
         "yaxis": "y"
        },
        {
         "alignmentgroup": "True",
         "hovertemplate": "ขนาดที่ดิน=40 - 60 ไร่<br>Province=%{x}<br>จำนวนที่ดิน=%{y}<extra></extra>",
         "legendgroup": "40 - 60 ไร่",
         "marker": {
          "color": "#19d3f3",
          "pattern": {
           "shape": ""
          }
         },
         "name": "40 - 60 ไร่",
         "offsetgroup": "40 - 60 ไร่",
         "orientation": "v",
         "showlegend": true,
         "textposition": "auto",
         "type": "bar",
         "x": [
          "CHUMPHON",
          "RANONG",
          "SURAT THANI",
          "PHANG NGA",
          "PHUKET",
          "KRABI",
          "TRANG",
          "NAKHON SI THAMMARAT",
          "PHATTHALUNG",
          "SONGKHLA",
          "SATUN",
          "PATTANI",
          "YALA",
          "NARATHIWAT"
         ],
         "xaxis": "x",
         "y": [
          "-",
          "-",
          "-",
          "-",
          "-",
          "-",
          "-",
          478,
          36,
          138,
          "-",
          "-",
          "-",
          "-"
         ],
         "yaxis": "y"
        },
        {
         "alignmentgroup": "True",
         "hovertemplate": "ขนาดที่ดิน=60 - 100 ไร่<br>Province=%{x}<br>จำนวนที่ดิน=%{y}<extra></extra>",
         "legendgroup": "60 - 100 ไร่",
         "marker": {
          "color": "#FF6692",
          "pattern": {
           "shape": ""
          }
         },
         "name": "60 - 100 ไร่",
         "offsetgroup": "60 - 100 ไร่",
         "orientation": "v",
         "showlegend": true,
         "textposition": "auto",
         "type": "bar",
         "x": [
          "CHUMPHON",
          "RANONG",
          "SURAT THANI",
          "PHANG NGA",
          "PHUKET",
          "KRABI",
          "TRANG",
          "NAKHON SI THAMMARAT",
          "PHATTHALUNG",
          "SONGKHLA",
          "SATUN",
          "PATTANI",
          "YALA",
          "NARATHIWAT"
         ],
         "xaxis": "x",
         "y": [
          "-",
          "-",
          "-",
          "-",
          "-",
          "-",
          "-",
          "-",
          "-",
          152,
          "-",
          "-",
          "-",
          "-"
         ],
         "yaxis": "y"
        },
        {
         "alignmentgroup": "True",
         "hovertemplate": "ขนาดที่ดิน=100 - 140 ไร่<br>Province=%{x}<br>จำนวนที่ดิน=%{y}<extra></extra>",
         "legendgroup": "100 - 140 ไร่",
         "marker": {
          "color": "#B6E880",
          "pattern": {
           "shape": ""
          }
         },
         "name": "100 - 140 ไร่",
         "offsetgroup": "100 - 140 ไร่",
         "orientation": "v",
         "showlegend": true,
         "textposition": "auto",
         "type": "bar",
         "x": [
          "CHUMPHON",
          "RANONG",
          "SURAT THANI",
          "PHANG NGA",
          "PHUKET",
          "KRABI",
          "TRANG",
          "NAKHON SI THAMMARAT",
          "PHATTHALUNG",
          "SONGKHLA",
          "SATUN",
          "PATTANI",
          "YALA",
          "NARATHIWAT"
         ],
         "xaxis": "x",
         "y": [
          "-",
          "-",
          "-",
          "-",
          "-",
          "-",
          "-",
          "-",
          "-",
          "-",
          "-",
          "-",
          "-",
          "-"
         ],
         "yaxis": "y"
        },
        {
         "alignmentgroup": "True",
         "hovertemplate": "ขนาดที่ดิน=> 140 ไร่<br>Province=%{x}<br>จำนวนที่ดิน=%{y}<extra></extra>",
         "legendgroup": "> 140 ไร่",
         "marker": {
          "color": "#FF97FF",
          "pattern": {
           "shape": ""
          }
         },
         "name": "> 140 ไร่",
         "offsetgroup": "> 140 ไร่",
         "orientation": "v",
         "showlegend": true,
         "textposition": "auto",
         "type": "bar",
         "x": [
          "CHUMPHON",
          "RANONG",
          "SURAT THANI",
          "PHANG NGA",
          "PHUKET",
          "KRABI",
          "TRANG",
          "NAKHON SI THAMMARAT",
          "PHATTHALUNG",
          "SONGKHLA",
          "SATUN",
          "PATTANI",
          "YALA",
          "NARATHIWAT"
         ],
         "xaxis": "x",
         "y": [
          "-",
          "-",
          "-",
          "-",
          "-",
          "-",
          "-",
          "-",
          "-",
          "-",
          "-",
          "-",
          "-",
          "-"
         ],
         "yaxis": "y"
        }
       ],
       "layout": {
        "barmode": "stack",
        "legend": {
         "title": {
          "text": "ขนาดที่ดิน"
         },
         "tracegroupgap": 0
        },
        "template": {
         "data": {
          "bar": [
           {
            "error_x": {
             "color": "#2a3f5f"
            },
            "error_y": {
             "color": "#2a3f5f"
            },
            "marker": {
             "line": {
              "color": "#E5ECF6",
              "width": 0.5
             },
             "pattern": {
              "fillmode": "overlay",
              "size": 10,
              "solidity": 0.2
             }
            },
            "type": "bar"
           }
          ],
          "barpolar": [
           {
            "marker": {
             "line": {
              "color": "#E5ECF6",
              "width": 0.5
             },
             "pattern": {
              "fillmode": "overlay",
              "size": 10,
              "solidity": 0.2
             }
            },
            "type": "barpolar"
           }
          ],
          "carpet": [
           {
            "aaxis": {
             "endlinecolor": "#2a3f5f",
             "gridcolor": "white",
             "linecolor": "white",
             "minorgridcolor": "white",
             "startlinecolor": "#2a3f5f"
            },
            "baxis": {
             "endlinecolor": "#2a3f5f",
             "gridcolor": "white",
             "linecolor": "white",
             "minorgridcolor": "white",
             "startlinecolor": "#2a3f5f"
            },
            "type": "carpet"
           }
          ],
          "choropleth": [
           {
            "colorbar": {
             "outlinewidth": 0,
             "ticks": ""
            },
            "type": "choropleth"
           }
          ],
          "contour": [
           {
            "colorbar": {
             "outlinewidth": 0,
             "ticks": ""
            },
            "colorscale": [
             [
              0,
              "#0d0887"
             ],
             [
              0.1111111111111111,
              "#46039f"
             ],
             [
              0.2222222222222222,
              "#7201a8"
             ],
             [
              0.3333333333333333,
              "#9c179e"
             ],
             [
              0.4444444444444444,
              "#bd3786"
             ],
             [
              0.5555555555555556,
              "#d8576b"
             ],
             [
              0.6666666666666666,
              "#ed7953"
             ],
             [
              0.7777777777777778,
              "#fb9f3a"
             ],
             [
              0.8888888888888888,
              "#fdca26"
             ],
             [
              1,
              "#f0f921"
             ]
            ],
            "type": "contour"
           }
          ],
          "contourcarpet": [
           {
            "colorbar": {
             "outlinewidth": 0,
             "ticks": ""
            },
            "type": "contourcarpet"
           }
          ],
          "heatmap": [
           {
            "colorbar": {
             "outlinewidth": 0,
             "ticks": ""
            },
            "colorscale": [
             [
              0,
              "#0d0887"
             ],
             [
              0.1111111111111111,
              "#46039f"
             ],
             [
              0.2222222222222222,
              "#7201a8"
             ],
             [
              0.3333333333333333,
              "#9c179e"
             ],
             [
              0.4444444444444444,
              "#bd3786"
             ],
             [
              0.5555555555555556,
              "#d8576b"
             ],
             [
              0.6666666666666666,
              "#ed7953"
             ],
             [
              0.7777777777777778,
              "#fb9f3a"
             ],
             [
              0.8888888888888888,
              "#fdca26"
             ],
             [
              1,
              "#f0f921"
             ]
            ],
            "type": "heatmap"
           }
          ],
          "heatmapgl": [
           {
            "colorbar": {
             "outlinewidth": 0,
             "ticks": ""
            },
            "colorscale": [
             [
              0,
              "#0d0887"
             ],
             [
              0.1111111111111111,
              "#46039f"
             ],
             [
              0.2222222222222222,
              "#7201a8"
             ],
             [
              0.3333333333333333,
              "#9c179e"
             ],
             [
              0.4444444444444444,
              "#bd3786"
             ],
             [
              0.5555555555555556,
              "#d8576b"
             ],
             [
              0.6666666666666666,
              "#ed7953"
             ],
             [
              0.7777777777777778,
              "#fb9f3a"
             ],
             [
              0.8888888888888888,
              "#fdca26"
             ],
             [
              1,
              "#f0f921"
             ]
            ],
            "type": "heatmapgl"
           }
          ],
          "histogram": [
           {
            "marker": {
             "pattern": {
              "fillmode": "overlay",
              "size": 10,
              "solidity": 0.2
             }
            },
            "type": "histogram"
           }
          ],
          "histogram2d": [
           {
            "colorbar": {
             "outlinewidth": 0,
             "ticks": ""
            },
            "colorscale": [
             [
              0,
              "#0d0887"
             ],
             [
              0.1111111111111111,
              "#46039f"
             ],
             [
              0.2222222222222222,
              "#7201a8"
             ],
             [
              0.3333333333333333,
              "#9c179e"
             ],
             [
              0.4444444444444444,
              "#bd3786"
             ],
             [
              0.5555555555555556,
              "#d8576b"
             ],
             [
              0.6666666666666666,
              "#ed7953"
             ],
             [
              0.7777777777777778,
              "#fb9f3a"
             ],
             [
              0.8888888888888888,
              "#fdca26"
             ],
             [
              1,
              "#f0f921"
             ]
            ],
            "type": "histogram2d"
           }
          ],
          "histogram2dcontour": [
           {
            "colorbar": {
             "outlinewidth": 0,
             "ticks": ""
            },
            "colorscale": [
             [
              0,
              "#0d0887"
             ],
             [
              0.1111111111111111,
              "#46039f"
             ],
             [
              0.2222222222222222,
              "#7201a8"
             ],
             [
              0.3333333333333333,
              "#9c179e"
             ],
             [
              0.4444444444444444,
              "#bd3786"
             ],
             [
              0.5555555555555556,
              "#d8576b"
             ],
             [
              0.6666666666666666,
              "#ed7953"
             ],
             [
              0.7777777777777778,
              "#fb9f3a"
             ],
             [
              0.8888888888888888,
              "#fdca26"
             ],
             [
              1,
              "#f0f921"
             ]
            ],
            "type": "histogram2dcontour"
           }
          ],
          "mesh3d": [
           {
            "colorbar": {
             "outlinewidth": 0,
             "ticks": ""
            },
            "type": "mesh3d"
           }
          ],
          "parcoords": [
           {
            "line": {
             "colorbar": {
              "outlinewidth": 0,
              "ticks": ""
             }
            },
            "type": "parcoords"
           }
          ],
          "pie": [
           {
            "automargin": true,
            "type": "pie"
           }
          ],
          "scatter": [
           {
            "fillpattern": {
             "fillmode": "overlay",
             "size": 10,
             "solidity": 0.2
            },
            "type": "scatter"
           }
          ],
          "scatter3d": [
           {
            "line": {
             "colorbar": {
              "outlinewidth": 0,
              "ticks": ""
             }
            },
            "marker": {
             "colorbar": {
              "outlinewidth": 0,
              "ticks": ""
             }
            },
            "type": "scatter3d"
           }
          ],
          "scattercarpet": [
           {
            "marker": {
             "colorbar": {
              "outlinewidth": 0,
              "ticks": ""
             }
            },
            "type": "scattercarpet"
           }
          ],
          "scattergeo": [
           {
            "marker": {
             "colorbar": {
              "outlinewidth": 0,
              "ticks": ""
             }
            },
            "type": "scattergeo"
           }
          ],
          "scattergl": [
           {
            "marker": {
             "colorbar": {
              "outlinewidth": 0,
              "ticks": ""
             }
            },
            "type": "scattergl"
           }
          ],
          "scattermapbox": [
           {
            "marker": {
             "colorbar": {
              "outlinewidth": 0,
              "ticks": ""
             }
            },
            "type": "scattermapbox"
           }
          ],
          "scatterpolar": [
           {
            "marker": {
             "colorbar": {
              "outlinewidth": 0,
              "ticks": ""
             }
            },
            "type": "scatterpolar"
           }
          ],
          "scatterpolargl": [
           {
            "marker": {
             "colorbar": {
              "outlinewidth": 0,
              "ticks": ""
             }
            },
            "type": "scatterpolargl"
           }
          ],
          "scatterternary": [
           {
            "marker": {
             "colorbar": {
              "outlinewidth": 0,
              "ticks": ""
             }
            },
            "type": "scatterternary"
           }
          ],
          "surface": [
           {
            "colorbar": {
             "outlinewidth": 0,
             "ticks": ""
            },
            "colorscale": [
             [
              0,
              "#0d0887"
             ],
             [
              0.1111111111111111,
              "#46039f"
             ],
             [
              0.2222222222222222,
              "#7201a8"
             ],
             [
              0.3333333333333333,
              "#9c179e"
             ],
             [
              0.4444444444444444,
              "#bd3786"
             ],
             [
              0.5555555555555556,
              "#d8576b"
             ],
             [
              0.6666666666666666,
              "#ed7953"
             ],
             [
              0.7777777777777778,
              "#fb9f3a"
             ],
             [
              0.8888888888888888,
              "#fdca26"
             ],
             [
              1,
              "#f0f921"
             ]
            ],
            "type": "surface"
           }
          ],
          "table": [
           {
            "cells": {
             "fill": {
              "color": "#EBF0F8"
             },
             "line": {
              "color": "white"
             }
            },
            "header": {
             "fill": {
              "color": "#C8D4E3"
             },
             "line": {
              "color": "white"
             }
            },
            "type": "table"
           }
          ]
         },
         "layout": {
          "annotationdefaults": {
           "arrowcolor": "#2a3f5f",
           "arrowhead": 0,
           "arrowwidth": 1
          },
          "autotypenumbers": "strict",
          "coloraxis": {
           "colorbar": {
            "outlinewidth": 0,
            "ticks": ""
           }
          },
          "colorscale": {
           "diverging": [
            [
             0,
             "#8e0152"
            ],
            [
             0.1,
             "#c51b7d"
            ],
            [
             0.2,
             "#de77ae"
            ],
            [
             0.3,
             "#f1b6da"
            ],
            [
             0.4,
             "#fde0ef"
            ],
            [
             0.5,
             "#f7f7f7"
            ],
            [
             0.6,
             "#e6f5d0"
            ],
            [
             0.7,
             "#b8e186"
            ],
            [
             0.8,
             "#7fbc41"
            ],
            [
             0.9,
             "#4d9221"
            ],
            [
             1,
             "#276419"
            ]
           ],
           "sequential": [
            [
             0,
             "#0d0887"
            ],
            [
             0.1111111111111111,
             "#46039f"
            ],
            [
             0.2222222222222222,
             "#7201a8"
            ],
            [
             0.3333333333333333,
             "#9c179e"
            ],
            [
             0.4444444444444444,
             "#bd3786"
            ],
            [
             0.5555555555555556,
             "#d8576b"
            ],
            [
             0.6666666666666666,
             "#ed7953"
            ],
            [
             0.7777777777777778,
             "#fb9f3a"
            ],
            [
             0.8888888888888888,
             "#fdca26"
            ],
            [
             1,
             "#f0f921"
            ]
           ],
           "sequentialminus": [
            [
             0,
             "#0d0887"
            ],
            [
             0.1111111111111111,
             "#46039f"
            ],
            [
             0.2222222222222222,
             "#7201a8"
            ],
            [
             0.3333333333333333,
             "#9c179e"
            ],
            [
             0.4444444444444444,
             "#bd3786"
            ],
            [
             0.5555555555555556,
             "#d8576b"
            ],
            [
             0.6666666666666666,
             "#ed7953"
            ],
            [
             0.7777777777777778,
             "#fb9f3a"
            ],
            [
             0.8888888888888888,
             "#fdca26"
            ],
            [
             1,
             "#f0f921"
            ]
           ]
          },
          "colorway": [
           "#636efa",
           "#EF553B",
           "#00cc96",
           "#ab63fa",
           "#FFA15A",
           "#19d3f3",
           "#FF6692",
           "#B6E880",
           "#FF97FF",
           "#FECB52"
          ],
          "font": {
           "color": "#2a3f5f"
          },
          "geo": {
           "bgcolor": "white",
           "lakecolor": "white",
           "landcolor": "#E5ECF6",
           "showlakes": true,
           "showland": true,
           "subunitcolor": "white"
          },
          "hoverlabel": {
           "align": "left"
          },
          "hovermode": "closest",
          "mapbox": {
           "style": "light"
          },
          "paper_bgcolor": "white",
          "plot_bgcolor": "#E5ECF6",
          "polar": {
           "angularaxis": {
            "gridcolor": "white",
            "linecolor": "white",
            "ticks": ""
           },
           "bgcolor": "#E5ECF6",
           "radialaxis": {
            "gridcolor": "white",
            "linecolor": "white",
            "ticks": ""
           }
          },
          "scene": {
           "xaxis": {
            "backgroundcolor": "#E5ECF6",
            "gridcolor": "white",
            "gridwidth": 2,
            "linecolor": "white",
            "showbackground": true,
            "ticks": "",
            "zerolinecolor": "white"
           },
           "yaxis": {
            "backgroundcolor": "#E5ECF6",
            "gridcolor": "white",
            "gridwidth": 2,
            "linecolor": "white",
            "showbackground": true,
            "ticks": "",
            "zerolinecolor": "white"
           },
           "zaxis": {
            "backgroundcolor": "#E5ECF6",
            "gridcolor": "white",
            "gridwidth": 2,
            "linecolor": "white",
            "showbackground": true,
            "ticks": "",
            "zerolinecolor": "white"
           }
          },
          "shapedefaults": {
           "line": {
            "color": "#2a3f5f"
           }
          },
          "ternary": {
           "aaxis": {
            "gridcolor": "white",
            "linecolor": "white",
            "ticks": ""
           },
           "baxis": {
            "gridcolor": "white",
            "linecolor": "white",
            "ticks": ""
           },
           "bgcolor": "#E5ECF6",
           "caxis": {
            "gridcolor": "white",
            "linecolor": "white",
            "ticks": ""
           }
          },
          "title": {
           "x": 0.05
          },
          "xaxis": {
           "automargin": true,
           "gridcolor": "white",
           "linecolor": "white",
           "ticks": "",
           "title": {
            "standoff": 15
           },
           "zerolinecolor": "white",
           "zerolinewidth": 2
          },
          "yaxis": {
           "automargin": true,
           "gridcolor": "white",
           "linecolor": "white",
           "ticks": "",
           "title": {
            "standoff": 15
           },
           "zerolinecolor": "white",
           "zerolinewidth": 2
          }
         }
        },
        "title": {
         "text": "การกระจายพื้นที่ที่ดินในแต่ละจังหวัด (กราฟแท่งสะสม)"
        },
        "xaxis": {
         "anchor": "y",
         "domain": [
          0,
          1
         ],
         "title": {
          "text": "Province"
         }
        },
        "yaxis": {
         "anchor": "x",
         "domain": [
          0,
          1
         ],
         "title": {
          "text": "จำนวนที่ดิน"
         },
         "type": "log"
        }
       }
      }
     },
     "metadata": {},
     "output_type": "display_data"
    }
   ],
   "source": [
    "df_long = pd.melt(df2, \n",
    "                  id_vars=[\"Province\"], \n",
    "                  value_vars=[\"<2 ไร่\", \"2 - 6 ไร่\", \"6 - 10 ไร่\", \"10 - 12 ไร่\", \"20 - 40 ไร่\", \"40 - 60 ไร่\", \"60 - 100 ไร่\", \"100 - 140 ไร่\", \"> 140 ไร่\"],\n",
    "                  var_name=\"Size\", \n",
    "                  value_name=\"Area\")\n",
    "\n",
    "# สร้างกราฟแท่งสะสม\n",
    "fig = px.bar(df_long, \n",
    "             x=\"Province\", \n",
    "             y=\"Area\", \n",
    "             color=\"Size\", \n",
    "             title=\"การกระจายพื้นที่ที่ดินในแต่ละจังหวัด (กราฟแท่งสะสม)\", \n",
    "             labels={\"Area\": \"จำนวนที่ดิน\", \"Size\": \"ขนาดที่ดิน\"}, \n",
    "             barmode=\"stack\",log_y =True)\n",
    "\n",
    "fig.show()"
   ]
  },
  {
   "cell_type": "code",
   "execution_count": 20,
   "metadata": {},
   "outputs": [],
   "source": [
    "fig.write_html(\"logarea.html\")"
   ]
  },
  {
   "cell_type": "code",
   "execution_count": 18,
   "metadata": {},
   "outputs": [
    {
     "data": {
      "application/vnd.plotly.v1+json": {
       "config": {
        "plotlyServerURL": "https://plot.ly"
       },
       "data": [
        {
         "alignmentgroup": "True",
         "bingroup": "x",
         "histfunc": "sum",
         "hovertemplate": "Province=CHUMPHON<br>ขนาดที่ดิน=%{x}<br>sum of จำนวนที่ดิน=%{y}<extra></extra>",
         "legendgroup": "CHUMPHON",
         "marker": {
          "color": "#636efa",
          "pattern": {
           "shape": ""
          }
         },
         "name": "CHUMPHON",
         "offsetgroup": "CHUMPHON",
         "orientation": "v",
         "showlegend": true,
         "textposition": "auto",
         "texttemplate": "%{value:.2f}",
         "type": "histogram",
         "x": [
          "<2 ไร่",
          "2 - 6 ไร่",
          "6 - 10 ไร่",
          "10 - 12 ไร่",
          "20 - 40 ไร่",
          "40 - 60 ไร่",
          "60 - 100 ไร่",
          "100 - 140 ไร่",
          "> 140 ไร่"
         ],
         "xaxis": "x",
         "y": [
          43,
          219,
          194,
          76,
          8,
          "-",
          "-",
          "-",
          "-"
         ],
         "yaxis": "y"
        }
       ],
       "frames": [
        {
         "data": [
          {
           "alignmentgroup": "True",
           "bingroup": "x",
           "histfunc": "sum",
           "hovertemplate": "Province=CHUMPHON<br>ขนาดที่ดิน=%{x}<br>sum of จำนวนที่ดิน=%{y}<extra></extra>",
           "legendgroup": "CHUMPHON",
           "marker": {
            "color": "#636efa",
            "pattern": {
             "shape": ""
            }
           },
           "name": "CHUMPHON",
           "offsetgroup": "CHUMPHON",
           "orientation": "v",
           "showlegend": true,
           "texttemplate": "%{value:.2f}",
           "type": "histogram",
           "x": [
            "<2 ไร่",
            "2 - 6 ไร่",
            "6 - 10 ไร่",
            "10 - 12 ไร่",
            "20 - 40 ไร่",
            "40 - 60 ไร่",
            "60 - 100 ไร่",
            "100 - 140 ไร่",
            "> 140 ไร่"
           ],
           "xaxis": "x",
           "y": [
            43,
            219,
            194,
            76,
            8,
            "-",
            "-",
            "-",
            "-"
           ],
           "yaxis": "y"
          }
         ],
         "name": "CHUMPHON"
        },
        {
         "data": [
          {
           "alignmentgroup": "True",
           "bingroup": "x",
           "histfunc": "sum",
           "hovertemplate": "Province=RANONG<br>ขนาดที่ดิน=%{x}<br>sum of จำนวนที่ดิน=%{y}<extra></extra>",
           "legendgroup": "RANONG",
           "marker": {
            "color": "#EF553B",
            "pattern": {
             "shape": ""
            }
           },
           "name": "RANONG",
           "offsetgroup": "RANONG",
           "orientation": "v",
           "showlegend": true,
           "texttemplate": "%{value:.2f}",
           "type": "histogram",
           "x": [
            "<2 ไร่",
            "2 - 6 ไร่",
            "6 - 10 ไร่",
            "10 - 12 ไร่",
            "20 - 40 ไร่",
            "40 - 60 ไร่",
            "60 - 100 ไร่",
            "100 - 140 ไร่",
            "> 140 ไร่"
           ],
           "xaxis": "x",
           "y": [
            4,
            31,
            22,
            10,
            "-",
            "-",
            "-",
            "-",
            "-"
           ],
           "yaxis": "y"
          }
         ],
         "name": "RANONG"
        },
        {
         "data": [
          {
           "alignmentgroup": "True",
           "bingroup": "x",
           "histfunc": "sum",
           "hovertemplate": "Province=SURAT THANI<br>ขนาดที่ดิน=%{x}<br>sum of จำนวนที่ดิน=%{y}<extra></extra>",
           "legendgroup": "SURAT THANI",
           "marker": {
            "color": "#00cc96",
            "pattern": {
             "shape": ""
            }
           },
           "name": "SURAT THANI",
           "offsetgroup": "SURAT THANI",
           "orientation": "v",
           "showlegend": true,
           "texttemplate": "%{value:.2f}",
           "type": "histogram",
           "x": [
            "<2 ไร่",
            "2 - 6 ไร่",
            "6 - 10 ไร่",
            "10 - 12 ไร่",
            "20 - 40 ไร่",
            "40 - 60 ไร่",
            "60 - 100 ไร่",
            "100 - 140 ไร่",
            "> 140 ไร่"
           ],
           "xaxis": "x",
           "y": [
            70,
            629,
            413,
            299,
            98,
            "-",
            "-",
            "-",
            "-"
           ],
           "yaxis": "y"
          }
         ],
         "name": "SURAT THANI"
        },
        {
         "data": [
          {
           "alignmentgroup": "True",
           "bingroup": "x",
           "histfunc": "sum",
           "hovertemplate": "Province=PHANG NGA<br>ขนาดที่ดิน=%{x}<br>sum of จำนวนที่ดิน=%{y}<extra></extra>",
           "legendgroup": "PHANG NGA",
           "marker": {
            "color": "#ab63fa",
            "pattern": {
             "shape": ""
            }
           },
           "name": "PHANG NGA",
           "offsetgroup": "PHANG NGA",
           "orientation": "v",
           "showlegend": true,
           "texttemplate": "%{value:.2f}",
           "type": "histogram",
           "x": [
            "<2 ไร่",
            "2 - 6 ไร่",
            "6 - 10 ไร่",
            "10 - 12 ไร่",
            "20 - 40 ไร่",
            "40 - 60 ไร่",
            "60 - 100 ไร่",
            "100 - 140 ไร่",
            "> 140 ไร่"
           ],
           "xaxis": "x",
           "y": [
            39,
            141,
            86,
            27,
            "-",
            "-",
            "-",
            "-",
            "-"
           ],
           "yaxis": "y"
          }
         ],
         "name": "PHANG NGA"
        },
        {
         "data": [
          {
           "alignmentgroup": "True",
           "bingroup": "x",
           "histfunc": "sum",
           "hovertemplate": "Province=PHUKET<br>ขนาดที่ดิน=%{x}<br>sum of จำนวนที่ดิน=%{y}<extra></extra>",
           "legendgroup": "PHUKET",
           "marker": {
            "color": "#FFA15A",
            "pattern": {
             "shape": ""
            }
           },
           "name": "PHUKET",
           "offsetgroup": "PHUKET",
           "orientation": "v",
           "showlegend": true,
           "texttemplate": "%{value:.2f}",
           "type": "histogram",
           "x": [
            "<2 ไร่",
            "2 - 6 ไร่",
            "6 - 10 ไร่",
            "10 - 12 ไร่",
            "20 - 40 ไร่",
            "40 - 60 ไร่",
            "60 - 100 ไร่",
            "100 - 140 ไร่",
            "> 140 ไร่"
           ],
           "xaxis": "x",
           "y": [
            "-",
            1,
            6,
            "-",
            "-",
            "-",
            "-",
            "-",
            "-"
           ],
           "yaxis": "y"
          }
         ],
         "name": "PHUKET"
        },
        {
         "data": [
          {
           "alignmentgroup": "True",
           "bingroup": "x",
           "histfunc": "sum",
           "hovertemplate": "Province=KRABI<br>ขนาดที่ดิน=%{x}<br>sum of จำนวนที่ดิน=%{y}<extra></extra>",
           "legendgroup": "KRABI",
           "marker": {
            "color": "#19d3f3",
            "pattern": {
             "shape": ""
            }
           },
           "name": "KRABI",
           "offsetgroup": "KRABI",
           "orientation": "v",
           "showlegend": true,
           "texttemplate": "%{value:.2f}",
           "type": "histogram",
           "x": [
            "<2 ไร่",
            "2 - 6 ไร่",
            "6 - 10 ไร่",
            "10 - 12 ไร่",
            "20 - 40 ไร่",
            "40 - 60 ไร่",
            "60 - 100 ไร่",
            "100 - 140 ไร่",
            "> 140 ไร่"
           ],
           "xaxis": "x",
           "y": [
            60,
            347,
            177,
            96,
            "-",
            "-",
            "-",
            "-",
            "-"
           ],
           "yaxis": "y"
          }
         ],
         "name": "KRABI"
        },
        {
         "data": [
          {
           "alignmentgroup": "True",
           "bingroup": "x",
           "histfunc": "sum",
           "hovertemplate": "Province=TRANG<br>ขนาดที่ดิน=%{x}<br>sum of จำนวนที่ดิน=%{y}<extra></extra>",
           "legendgroup": "TRANG",
           "marker": {
            "color": "#FF6692",
            "pattern": {
             "shape": ""
            }
           },
           "name": "TRANG",
           "offsetgroup": "TRANG",
           "orientation": "v",
           "showlegend": true,
           "texttemplate": "%{value:.2f}",
           "type": "histogram",
           "x": [
            "<2 ไร่",
            "2 - 6 ไร่",
            "6 - 10 ไร่",
            "10 - 12 ไร่",
            "20 - 40 ไร่",
            "40 - 60 ไร่",
            "60 - 100 ไร่",
            "100 - 140 ไร่",
            "> 140 ไร่"
           ],
           "xaxis": "x",
           "y": [
            116,
            1006,
            313,
            198,
            "-",
            "-",
            "-",
            "-",
            "-"
           ],
           "yaxis": "y"
          }
         ],
         "name": "TRANG"
        },
        {
         "data": [
          {
           "alignmentgroup": "True",
           "bingroup": "x",
           "histfunc": "sum",
           "hovertemplate": "Province=NAKHON SI THAMMARAT<br>ขนาดที่ดิน=%{x}<br>sum of จำนวนที่ดิน=%{y}<extra></extra>",
           "legendgroup": "NAKHON SI THAMMARAT",
           "marker": {
            "color": "#B6E880",
            "pattern": {
             "shape": ""
            }
           },
           "name": "NAKHON SI THAMMARAT",
           "offsetgroup": "NAKHON SI THAMMARAT",
           "orientation": "v",
           "showlegend": true,
           "texttemplate": "%{value:.2f}",
           "type": "histogram",
           "x": [
            "<2 ไร่",
            "2 - 6 ไร่",
            "6 - 10 ไร่",
            "10 - 12 ไร่",
            "20 - 40 ไร่",
            "40 - 60 ไร่",
            "60 - 100 ไร่",
            "100 - 140 ไร่",
            "> 140 ไร่"
           ],
           "xaxis": "x",
           "y": [
            434,
            3650,
            3503,
            4165,
            3956,
            478,
            "-",
            "-",
            "-"
           ],
           "yaxis": "y"
          }
         ],
         "name": "NAKHON SI THAMMARAT"
        },
        {
         "data": [
          {
           "alignmentgroup": "True",
           "bingroup": "x",
           "histfunc": "sum",
           "hovertemplate": "Province=PHATTHALUNG<br>ขนาดที่ดิน=%{x}<br>sum of จำนวนที่ดิน=%{y}<extra></extra>",
           "legendgroup": "PHATTHALUNG",
           "marker": {
            "color": "#FF97FF",
            "pattern": {
             "shape": ""
            }
           },
           "name": "PHATTHALUNG",
           "offsetgroup": "PHATTHALUNG",
           "orientation": "v",
           "showlegend": true,
           "texttemplate": "%{value:.2f}",
           "type": "histogram",
           "x": [
            "<2 ไร่",
            "2 - 6 ไร่",
            "6 - 10 ไร่",
            "10 - 12 ไร่",
            "20 - 40 ไร่",
            "40 - 60 ไร่",
            "60 - 100 ไร่",
            "100 - 140 ไร่",
            "> 140 ไร่"
           ],
           "xaxis": "x",
           "y": [
            1404,
            5992,
            3819,
            3485,
            934,
            36,
            "-",
            "-",
            "-"
           ],
           "yaxis": "y"
          }
         ],
         "name": "PHATTHALUNG"
        },
        {
         "data": [
          {
           "alignmentgroup": "True",
           "bingroup": "x",
           "histfunc": "sum",
           "hovertemplate": "Province=SONGKHLA<br>ขนาดที่ดิน=%{x}<br>sum of จำนวนที่ดิน=%{y}<extra></extra>",
           "legendgroup": "SONGKHLA",
           "marker": {
            "color": "#FECB52",
            "pattern": {
             "shape": ""
            }
           },
           "name": "SONGKHLA",
           "offsetgroup": "SONGKHLA",
           "orientation": "v",
           "showlegend": true,
           "texttemplate": "%{value:.2f}",
           "type": "histogram",
           "x": [
            "<2 ไร่",
            "2 - 6 ไร่",
            "6 - 10 ไร่",
            "10 - 12 ไร่",
            "20 - 40 ไร่",
            "40 - 60 ไร่",
            "60 - 100 ไร่",
            "100 - 140 ไร่",
            "> 140 ไร่"
           ],
           "xaxis": "x",
           "y": [
            722,
            3249,
            3282,
            5024,
            2291,
            138,
            152,
            "-",
            "-"
           ],
           "yaxis": "y"
          }
         ],
         "name": "SONGKHLA"
        },
        {
         "data": [
          {
           "alignmentgroup": "True",
           "bingroup": "x",
           "histfunc": "sum",
           "hovertemplate": "Province=SATUN<br>ขนาดที่ดิน=%{x}<br>sum of จำนวนที่ดิน=%{y}<extra></extra>",
           "legendgroup": "SATUN",
           "marker": {
            "color": "#636efa",
            "pattern": {
             "shape": ""
            }
           },
           "name": "SATUN",
           "offsetgroup": "SATUN",
           "orientation": "v",
           "showlegend": true,
           "texttemplate": "%{value:.2f}",
           "type": "histogram",
           "x": [
            "<2 ไร่",
            "2 - 6 ไร่",
            "6 - 10 ไร่",
            "10 - 12 ไร่",
            "20 - 40 ไร่",
            "40 - 60 ไร่",
            "60 - 100 ไร่",
            "100 - 140 ไร่",
            "> 140 ไร่"
           ],
           "xaxis": "x",
           "y": [
            589,
            3213,
            857,
            242,
            "-",
            "-",
            "-",
            "-",
            "-"
           ],
           "yaxis": "y"
          }
         ],
         "name": "SATUN"
        },
        {
         "data": [
          {
           "alignmentgroup": "True",
           "bingroup": "x",
           "histfunc": "sum",
           "hovertemplate": "Province=PATTANI<br>ขนาดที่ดิน=%{x}<br>sum of จำนวนที่ดิน=%{y}<extra></extra>",
           "legendgroup": "PATTANI",
           "marker": {
            "color": "#EF553B",
            "pattern": {
             "shape": ""
            }
           },
           "name": "PATTANI",
           "offsetgroup": "PATTANI",
           "orientation": "v",
           "showlegend": true,
           "texttemplate": "%{value:.2f}",
           "type": "histogram",
           "x": [
            "<2 ไร่",
            "2 - 6 ไร่",
            "6 - 10 ไร่",
            "10 - 12 ไร่",
            "20 - 40 ไร่",
            "40 - 60 ไร่",
            "60 - 100 ไร่",
            "100 - 140 ไร่",
            "> 140 ไร่"
           ],
           "xaxis": "x",
           "y": [
            607,
            4466,
            4531,
            1460,
            121,
            "-",
            "-",
            "-",
            "-"
           ],
           "yaxis": "y"
          }
         ],
         "name": "PATTANI"
        },
        {
         "data": [
          {
           "alignmentgroup": "True",
           "bingroup": "x",
           "histfunc": "sum",
           "hovertemplate": "Province=YALA<br>ขนาดที่ดิน=%{x}<br>sum of จำนวนที่ดิน=%{y}<extra></extra>",
           "legendgroup": "YALA",
           "marker": {
            "color": "#00cc96",
            "pattern": {
             "shape": ""
            }
           },
           "name": "YALA",
           "offsetgroup": "YALA",
           "orientation": "v",
           "showlegend": true,
           "texttemplate": "%{value:.2f}",
           "type": "histogram",
           "x": [
            "<2 ไร่",
            "2 - 6 ไร่",
            "6 - 10 ไร่",
            "10 - 12 ไร่",
            "20 - 40 ไร่",
            "40 - 60 ไร่",
            "60 - 100 ไร่",
            "100 - 140 ไร่",
            "> 140 ไร่"
           ],
           "xaxis": "x",
           "y": [
            123,
            1979,
            2693,
            86,
            "-",
            "-",
            "-",
            "-",
            "-"
           ],
           "yaxis": "y"
          }
         ],
         "name": "YALA"
        },
        {
         "data": [
          {
           "alignmentgroup": "True",
           "bingroup": "x",
           "histfunc": "sum",
           "hovertemplate": "Province=NARATHIWAT<br>ขนาดที่ดิน=%{x}<br>sum of จำนวนที่ดิน=%{y}<extra></extra>",
           "legendgroup": "NARATHIWAT",
           "marker": {
            "color": "#ab63fa",
            "pattern": {
             "shape": ""
            }
           },
           "name": "NARATHIWAT",
           "offsetgroup": "NARATHIWAT",
           "orientation": "v",
           "showlegend": true,
           "texttemplate": "%{value:.2f}",
           "type": "histogram",
           "x": [
            "<2 ไร่",
            "2 - 6 ไร่",
            "6 - 10 ไร่",
            "10 - 12 ไร่",
            "20 - 40 ไร่",
            "40 - 60 ไร่",
            "60 - 100 ไร่",
            "100 - 140 ไร่",
            "> 140 ไร่"
           ],
           "xaxis": "x",
           "y": [
            249,
            5502,
            997,
            940,
            "-",
            "-",
            "-",
            "-",
            "-"
           ],
           "yaxis": "y"
          }
         ],
         "name": "NARATHIWAT"
        }
       ],
       "layout": {
        "barmode": "relative",
        "legend": {
         "title": {
          "text": "Province"
         },
         "tracegroupgap": 0
        },
        "sliders": [
         {
          "active": 0,
          "currentvalue": {
           "prefix": "Province="
          },
          "len": 0.9,
          "pad": {
           "b": 10,
           "t": 60
          },
          "steps": [
           {
            "args": [
             [
              "CHUMPHON"
             ],
             {
              "frame": {
               "duration": 0,
               "redraw": true
              },
              "fromcurrent": true,
              "mode": "immediate",
              "transition": {
               "duration": 0,
               "easing": "linear"
              }
             }
            ],
            "label": "CHUMPHON",
            "method": "animate"
           },
           {
            "args": [
             [
              "RANONG"
             ],
             {
              "frame": {
               "duration": 0,
               "redraw": true
              },
              "fromcurrent": true,
              "mode": "immediate",
              "transition": {
               "duration": 0,
               "easing": "linear"
              }
             }
            ],
            "label": "RANONG",
            "method": "animate"
           },
           {
            "args": [
             [
              "SURAT THANI"
             ],
             {
              "frame": {
               "duration": 0,
               "redraw": true
              },
              "fromcurrent": true,
              "mode": "immediate",
              "transition": {
               "duration": 0,
               "easing": "linear"
              }
             }
            ],
            "label": "SURAT THANI",
            "method": "animate"
           },
           {
            "args": [
             [
              "PHANG NGA"
             ],
             {
              "frame": {
               "duration": 0,
               "redraw": true
              },
              "fromcurrent": true,
              "mode": "immediate",
              "transition": {
               "duration": 0,
               "easing": "linear"
              }
             }
            ],
            "label": "PHANG NGA",
            "method": "animate"
           },
           {
            "args": [
             [
              "PHUKET"
             ],
             {
              "frame": {
               "duration": 0,
               "redraw": true
              },
              "fromcurrent": true,
              "mode": "immediate",
              "transition": {
               "duration": 0,
               "easing": "linear"
              }
             }
            ],
            "label": "PHUKET",
            "method": "animate"
           },
           {
            "args": [
             [
              "KRABI"
             ],
             {
              "frame": {
               "duration": 0,
               "redraw": true
              },
              "fromcurrent": true,
              "mode": "immediate",
              "transition": {
               "duration": 0,
               "easing": "linear"
              }
             }
            ],
            "label": "KRABI",
            "method": "animate"
           },
           {
            "args": [
             [
              "TRANG"
             ],
             {
              "frame": {
               "duration": 0,
               "redraw": true
              },
              "fromcurrent": true,
              "mode": "immediate",
              "transition": {
               "duration": 0,
               "easing": "linear"
              }
             }
            ],
            "label": "TRANG",
            "method": "animate"
           },
           {
            "args": [
             [
              "NAKHON SI THAMMARAT"
             ],
             {
              "frame": {
               "duration": 0,
               "redraw": true
              },
              "fromcurrent": true,
              "mode": "immediate",
              "transition": {
               "duration": 0,
               "easing": "linear"
              }
             }
            ],
            "label": "NAKHON SI THAMMARAT",
            "method": "animate"
           },
           {
            "args": [
             [
              "PHATTHALUNG"
             ],
             {
              "frame": {
               "duration": 0,
               "redraw": true
              },
              "fromcurrent": true,
              "mode": "immediate",
              "transition": {
               "duration": 0,
               "easing": "linear"
              }
             }
            ],
            "label": "PHATTHALUNG",
            "method": "animate"
           },
           {
            "args": [
             [
              "SONGKHLA"
             ],
             {
              "frame": {
               "duration": 0,
               "redraw": true
              },
              "fromcurrent": true,
              "mode": "immediate",
              "transition": {
               "duration": 0,
               "easing": "linear"
              }
             }
            ],
            "label": "SONGKHLA",
            "method": "animate"
           },
           {
            "args": [
             [
              "SATUN"
             ],
             {
              "frame": {
               "duration": 0,
               "redraw": true
              },
              "fromcurrent": true,
              "mode": "immediate",
              "transition": {
               "duration": 0,
               "easing": "linear"
              }
             }
            ],
            "label": "SATUN",
            "method": "animate"
           },
           {
            "args": [
             [
              "PATTANI"
             ],
             {
              "frame": {
               "duration": 0,
               "redraw": true
              },
              "fromcurrent": true,
              "mode": "immediate",
              "transition": {
               "duration": 0,
               "easing": "linear"
              }
             }
            ],
            "label": "PATTANI",
            "method": "animate"
           },
           {
            "args": [
             [
              "YALA"
             ],
             {
              "frame": {
               "duration": 0,
               "redraw": true
              },
              "fromcurrent": true,
              "mode": "immediate",
              "transition": {
               "duration": 0,
               "easing": "linear"
              }
             }
            ],
            "label": "YALA",
            "method": "animate"
           },
           {
            "args": [
             [
              "NARATHIWAT"
             ],
             {
              "frame": {
               "duration": 0,
               "redraw": true
              },
              "fromcurrent": true,
              "mode": "immediate",
              "transition": {
               "duration": 0,
               "easing": "linear"
              }
             }
            ],
            "label": "NARATHIWAT",
            "method": "animate"
           }
          ],
          "x": 0.1,
          "xanchor": "left",
          "y": 0,
          "yanchor": "top"
         }
        ],
        "template": {
         "data": {
          "bar": [
           {
            "error_x": {
             "color": "#2a3f5f"
            },
            "error_y": {
             "color": "#2a3f5f"
            },
            "marker": {
             "line": {
              "color": "#E5ECF6",
              "width": 0.5
             },
             "pattern": {
              "fillmode": "overlay",
              "size": 10,
              "solidity": 0.2
             }
            },
            "type": "bar"
           }
          ],
          "barpolar": [
           {
            "marker": {
             "line": {
              "color": "#E5ECF6",
              "width": 0.5
             },
             "pattern": {
              "fillmode": "overlay",
              "size": 10,
              "solidity": 0.2
             }
            },
            "type": "barpolar"
           }
          ],
          "carpet": [
           {
            "aaxis": {
             "endlinecolor": "#2a3f5f",
             "gridcolor": "white",
             "linecolor": "white",
             "minorgridcolor": "white",
             "startlinecolor": "#2a3f5f"
            },
            "baxis": {
             "endlinecolor": "#2a3f5f",
             "gridcolor": "white",
             "linecolor": "white",
             "minorgridcolor": "white",
             "startlinecolor": "#2a3f5f"
            },
            "type": "carpet"
           }
          ],
          "choropleth": [
           {
            "colorbar": {
             "outlinewidth": 0,
             "ticks": ""
            },
            "type": "choropleth"
           }
          ],
          "contour": [
           {
            "colorbar": {
             "outlinewidth": 0,
             "ticks": ""
            },
            "colorscale": [
             [
              0,
              "#0d0887"
             ],
             [
              0.1111111111111111,
              "#46039f"
             ],
             [
              0.2222222222222222,
              "#7201a8"
             ],
             [
              0.3333333333333333,
              "#9c179e"
             ],
             [
              0.4444444444444444,
              "#bd3786"
             ],
             [
              0.5555555555555556,
              "#d8576b"
             ],
             [
              0.6666666666666666,
              "#ed7953"
             ],
             [
              0.7777777777777778,
              "#fb9f3a"
             ],
             [
              0.8888888888888888,
              "#fdca26"
             ],
             [
              1,
              "#f0f921"
             ]
            ],
            "type": "contour"
           }
          ],
          "contourcarpet": [
           {
            "colorbar": {
             "outlinewidth": 0,
             "ticks": ""
            },
            "type": "contourcarpet"
           }
          ],
          "heatmap": [
           {
            "colorbar": {
             "outlinewidth": 0,
             "ticks": ""
            },
            "colorscale": [
             [
              0,
              "#0d0887"
             ],
             [
              0.1111111111111111,
              "#46039f"
             ],
             [
              0.2222222222222222,
              "#7201a8"
             ],
             [
              0.3333333333333333,
              "#9c179e"
             ],
             [
              0.4444444444444444,
              "#bd3786"
             ],
             [
              0.5555555555555556,
              "#d8576b"
             ],
             [
              0.6666666666666666,
              "#ed7953"
             ],
             [
              0.7777777777777778,
              "#fb9f3a"
             ],
             [
              0.8888888888888888,
              "#fdca26"
             ],
             [
              1,
              "#f0f921"
             ]
            ],
            "type": "heatmap"
           }
          ],
          "heatmapgl": [
           {
            "colorbar": {
             "outlinewidth": 0,
             "ticks": ""
            },
            "colorscale": [
             [
              0,
              "#0d0887"
             ],
             [
              0.1111111111111111,
              "#46039f"
             ],
             [
              0.2222222222222222,
              "#7201a8"
             ],
             [
              0.3333333333333333,
              "#9c179e"
             ],
             [
              0.4444444444444444,
              "#bd3786"
             ],
             [
              0.5555555555555556,
              "#d8576b"
             ],
             [
              0.6666666666666666,
              "#ed7953"
             ],
             [
              0.7777777777777778,
              "#fb9f3a"
             ],
             [
              0.8888888888888888,
              "#fdca26"
             ],
             [
              1,
              "#f0f921"
             ]
            ],
            "type": "heatmapgl"
           }
          ],
          "histogram": [
           {
            "marker": {
             "pattern": {
              "fillmode": "overlay",
              "size": 10,
              "solidity": 0.2
             }
            },
            "type": "histogram"
           }
          ],
          "histogram2d": [
           {
            "colorbar": {
             "outlinewidth": 0,
             "ticks": ""
            },
            "colorscale": [
             [
              0,
              "#0d0887"
             ],
             [
              0.1111111111111111,
              "#46039f"
             ],
             [
              0.2222222222222222,
              "#7201a8"
             ],
             [
              0.3333333333333333,
              "#9c179e"
             ],
             [
              0.4444444444444444,
              "#bd3786"
             ],
             [
              0.5555555555555556,
              "#d8576b"
             ],
             [
              0.6666666666666666,
              "#ed7953"
             ],
             [
              0.7777777777777778,
              "#fb9f3a"
             ],
             [
              0.8888888888888888,
              "#fdca26"
             ],
             [
              1,
              "#f0f921"
             ]
            ],
            "type": "histogram2d"
           }
          ],
          "histogram2dcontour": [
           {
            "colorbar": {
             "outlinewidth": 0,
             "ticks": ""
            },
            "colorscale": [
             [
              0,
              "#0d0887"
             ],
             [
              0.1111111111111111,
              "#46039f"
             ],
             [
              0.2222222222222222,
              "#7201a8"
             ],
             [
              0.3333333333333333,
              "#9c179e"
             ],
             [
              0.4444444444444444,
              "#bd3786"
             ],
             [
              0.5555555555555556,
              "#d8576b"
             ],
             [
              0.6666666666666666,
              "#ed7953"
             ],
             [
              0.7777777777777778,
              "#fb9f3a"
             ],
             [
              0.8888888888888888,
              "#fdca26"
             ],
             [
              1,
              "#f0f921"
             ]
            ],
            "type": "histogram2dcontour"
           }
          ],
          "mesh3d": [
           {
            "colorbar": {
             "outlinewidth": 0,
             "ticks": ""
            },
            "type": "mesh3d"
           }
          ],
          "parcoords": [
           {
            "line": {
             "colorbar": {
              "outlinewidth": 0,
              "ticks": ""
             }
            },
            "type": "parcoords"
           }
          ],
          "pie": [
           {
            "automargin": true,
            "type": "pie"
           }
          ],
          "scatter": [
           {
            "fillpattern": {
             "fillmode": "overlay",
             "size": 10,
             "solidity": 0.2
            },
            "type": "scatter"
           }
          ],
          "scatter3d": [
           {
            "line": {
             "colorbar": {
              "outlinewidth": 0,
              "ticks": ""
             }
            },
            "marker": {
             "colorbar": {
              "outlinewidth": 0,
              "ticks": ""
             }
            },
            "type": "scatter3d"
           }
          ],
          "scattercarpet": [
           {
            "marker": {
             "colorbar": {
              "outlinewidth": 0,
              "ticks": ""
             }
            },
            "type": "scattercarpet"
           }
          ],
          "scattergeo": [
           {
            "marker": {
             "colorbar": {
              "outlinewidth": 0,
              "ticks": ""
             }
            },
            "type": "scattergeo"
           }
          ],
          "scattergl": [
           {
            "marker": {
             "colorbar": {
              "outlinewidth": 0,
              "ticks": ""
             }
            },
            "type": "scattergl"
           }
          ],
          "scattermapbox": [
           {
            "marker": {
             "colorbar": {
              "outlinewidth": 0,
              "ticks": ""
             }
            },
            "type": "scattermapbox"
           }
          ],
          "scatterpolar": [
           {
            "marker": {
             "colorbar": {
              "outlinewidth": 0,
              "ticks": ""
             }
            },
            "type": "scatterpolar"
           }
          ],
          "scatterpolargl": [
           {
            "marker": {
             "colorbar": {
              "outlinewidth": 0,
              "ticks": ""
             }
            },
            "type": "scatterpolargl"
           }
          ],
          "scatterternary": [
           {
            "marker": {
             "colorbar": {
              "outlinewidth": 0,
              "ticks": ""
             }
            },
            "type": "scatterternary"
           }
          ],
          "surface": [
           {
            "colorbar": {
             "outlinewidth": 0,
             "ticks": ""
            },
            "colorscale": [
             [
              0,
              "#0d0887"
             ],
             [
              0.1111111111111111,
              "#46039f"
             ],
             [
              0.2222222222222222,
              "#7201a8"
             ],
             [
              0.3333333333333333,
              "#9c179e"
             ],
             [
              0.4444444444444444,
              "#bd3786"
             ],
             [
              0.5555555555555556,
              "#d8576b"
             ],
             [
              0.6666666666666666,
              "#ed7953"
             ],
             [
              0.7777777777777778,
              "#fb9f3a"
             ],
             [
              0.8888888888888888,
              "#fdca26"
             ],
             [
              1,
              "#f0f921"
             ]
            ],
            "type": "surface"
           }
          ],
          "table": [
           {
            "cells": {
             "fill": {
              "color": "#EBF0F8"
             },
             "line": {
              "color": "white"
             }
            },
            "header": {
             "fill": {
              "color": "#C8D4E3"
             },
             "line": {
              "color": "white"
             }
            },
            "type": "table"
           }
          ]
         },
         "layout": {
          "annotationdefaults": {
           "arrowcolor": "#2a3f5f",
           "arrowhead": 0,
           "arrowwidth": 1
          },
          "autotypenumbers": "strict",
          "coloraxis": {
           "colorbar": {
            "outlinewidth": 0,
            "ticks": ""
           }
          },
          "colorscale": {
           "diverging": [
            [
             0,
             "#8e0152"
            ],
            [
             0.1,
             "#c51b7d"
            ],
            [
             0.2,
             "#de77ae"
            ],
            [
             0.3,
             "#f1b6da"
            ],
            [
             0.4,
             "#fde0ef"
            ],
            [
             0.5,
             "#f7f7f7"
            ],
            [
             0.6,
             "#e6f5d0"
            ],
            [
             0.7,
             "#b8e186"
            ],
            [
             0.8,
             "#7fbc41"
            ],
            [
             0.9,
             "#4d9221"
            ],
            [
             1,
             "#276419"
            ]
           ],
           "sequential": [
            [
             0,
             "#0d0887"
            ],
            [
             0.1111111111111111,
             "#46039f"
            ],
            [
             0.2222222222222222,
             "#7201a8"
            ],
            [
             0.3333333333333333,
             "#9c179e"
            ],
            [
             0.4444444444444444,
             "#bd3786"
            ],
            [
             0.5555555555555556,
             "#d8576b"
            ],
            [
             0.6666666666666666,
             "#ed7953"
            ],
            [
             0.7777777777777778,
             "#fb9f3a"
            ],
            [
             0.8888888888888888,
             "#fdca26"
            ],
            [
             1,
             "#f0f921"
            ]
           ],
           "sequentialminus": [
            [
             0,
             "#0d0887"
            ],
            [
             0.1111111111111111,
             "#46039f"
            ],
            [
             0.2222222222222222,
             "#7201a8"
            ],
            [
             0.3333333333333333,
             "#9c179e"
            ],
            [
             0.4444444444444444,
             "#bd3786"
            ],
            [
             0.5555555555555556,
             "#d8576b"
            ],
            [
             0.6666666666666666,
             "#ed7953"
            ],
            [
             0.7777777777777778,
             "#fb9f3a"
            ],
            [
             0.8888888888888888,
             "#fdca26"
            ],
            [
             1,
             "#f0f921"
            ]
           ]
          },
          "colorway": [
           "#636efa",
           "#EF553B",
           "#00cc96",
           "#ab63fa",
           "#FFA15A",
           "#19d3f3",
           "#FF6692",
           "#B6E880",
           "#FF97FF",
           "#FECB52"
          ],
          "font": {
           "color": "#2a3f5f"
          },
          "geo": {
           "bgcolor": "white",
           "lakecolor": "white",
           "landcolor": "#E5ECF6",
           "showlakes": true,
           "showland": true,
           "subunitcolor": "white"
          },
          "hoverlabel": {
           "align": "left"
          },
          "hovermode": "closest",
          "mapbox": {
           "style": "light"
          },
          "paper_bgcolor": "white",
          "plot_bgcolor": "#E5ECF6",
          "polar": {
           "angularaxis": {
            "gridcolor": "white",
            "linecolor": "white",
            "ticks": ""
           },
           "bgcolor": "#E5ECF6",
           "radialaxis": {
            "gridcolor": "white",
            "linecolor": "white",
            "ticks": ""
           }
          },
          "scene": {
           "xaxis": {
            "backgroundcolor": "#E5ECF6",
            "gridcolor": "white",
            "gridwidth": 2,
            "linecolor": "white",
            "showbackground": true,
            "ticks": "",
            "zerolinecolor": "white"
           },
           "yaxis": {
            "backgroundcolor": "#E5ECF6",
            "gridcolor": "white",
            "gridwidth": 2,
            "linecolor": "white",
            "showbackground": true,
            "ticks": "",
            "zerolinecolor": "white"
           },
           "zaxis": {
            "backgroundcolor": "#E5ECF6",
            "gridcolor": "white",
            "gridwidth": 2,
            "linecolor": "white",
            "showbackground": true,
            "ticks": "",
            "zerolinecolor": "white"
           }
          },
          "shapedefaults": {
           "line": {
            "color": "#2a3f5f"
           }
          },
          "ternary": {
           "aaxis": {
            "gridcolor": "white",
            "linecolor": "white",
            "ticks": ""
           },
           "baxis": {
            "gridcolor": "white",
            "linecolor": "white",
            "ticks": ""
           },
           "bgcolor": "#E5ECF6",
           "caxis": {
            "gridcolor": "white",
            "linecolor": "white",
            "ticks": ""
           }
          },
          "title": {
           "x": 0.05
          },
          "xaxis": {
           "automargin": true,
           "gridcolor": "white",
           "linecolor": "white",
           "ticks": "",
           "title": {
            "standoff": 15
           },
           "zerolinecolor": "white",
           "zerolinewidth": 2
          },
          "yaxis": {
           "automargin": true,
           "gridcolor": "white",
           "linecolor": "white",
           "ticks": "",
           "title": {
            "standoff": 15
           },
           "zerolinecolor": "white",
           "zerolinewidth": 2
          }
         }
        },
        "title": {
         "text": "การกระจายพื้นที่ที่ดินในแต่ละจังหวัด (KDE)"
        },
        "updatemenus": [
         {
          "buttons": [
           {
            "args": [
             null,
             {
              "frame": {
               "duration": 500,
               "redraw": true
              },
              "fromcurrent": true,
              "mode": "immediate",
              "transition": {
               "duration": 500,
               "easing": "linear"
              }
             }
            ],
            "label": "&#9654;",
            "method": "animate"
           },
           {
            "args": [
             [
              null
             ],
             {
              "frame": {
               "duration": 0,
               "redraw": true
              },
              "fromcurrent": true,
              "mode": "immediate",
              "transition": {
               "duration": 0,
               "easing": "linear"
              }
             }
            ],
            "label": "&#9724;",
            "method": "animate"
           }
          ],
          "direction": "left",
          "pad": {
           "r": 10,
           "t": 70
          },
          "showactive": false,
          "type": "buttons",
          "x": 0.1,
          "xanchor": "right",
          "y": 0,
          "yanchor": "top"
         }
        ],
        "xaxis": {
         "anchor": "y",
         "domain": [
          0,
          1
         ],
         "title": {
          "text": "ขนาดที่ดิน"
         }
        },
        "yaxis": {
         "anchor": "x",
         "domain": [
          0,
          1
         ],
         "title": {
          "text": "sum of จำนวนที่ดิน"
         }
        }
       }
      }
     },
     "metadata": {},
     "output_type": "display_data"
    }
   ],
   "source": [
    "# สร้าง KDE plot (Density Plot)\n",
    "fig2 = px.histogram(df_long, \n",
    "                         x=\"Size\", \n",
    "                         y=\"Area\", \n",
    "                         color=\"Province\", \n",
    "                         animation_frame=\"Province\",  # ทำให้เป็น animated เมื่อเปลี่ยนจังหวัด\n",
    "                         title=\"การกระจายพื้นที่ที่ดินในแต่ละจังหวัด (KDE)\",\n",
    "                         labels={\"Size\": \"ขนาดที่ดิน\", \"Area\": \"จำนวนที่ดิน\"},\n",
    "                         text_auto=\".2f\")\n",
    "fig2.update_traces(textposition='auto')\n",
    "# แสดงกราฟ\n",
    "fig2.show()"
   ]
  },
  {
   "cell_type": "code",
   "execution_count": null,
   "metadata": {},
   "outputs": [],
   "source": []
  },
  {
   "cell_type": "code",
   "execution_count": null,
   "metadata": {},
   "outputs": [],
   "source": []
  }
 ],
 "metadata": {
  "kernelspec": {
   "display_name": "base",
   "language": "python",
   "name": "python3"
  },
  "language_info": {
   "codemirror_mode": {
    "name": "ipython",
    "version": 3
   },
   "file_extension": ".py",
   "mimetype": "text/x-python",
   "name": "python",
   "nbconvert_exporter": "python",
   "pygments_lexer": "ipython3",
   "version": "3.12.7"
  }
 },
 "nbformat": 4,
 "nbformat_minor": 2
}
