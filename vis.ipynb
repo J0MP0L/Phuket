{
 "cells": [
  {
   "cell_type": "code",
   "execution_count": 1,
   "metadata": {},
   "outputs": [],
   "source": [
    "import json\n",
    "import pandas as pd\n",
    "import plotly.io as pio\n",
    "import plotly.express as px"
   ]
  },
  {
   "cell_type": "code",
   "execution_count": 27,
   "metadata": {},
   "outputs": [
    {
     "name": "stderr",
     "output_type": "stream",
     "text": [
      "/var/folders/jm/hx406fwn5ql4cjk_zqccfpqw0000gn/T/ipykernel_64598/3234798448.py:3: FutureWarning:\n",
      "\n",
      "ChainedAssignmentError: behaviour will change in pandas 3.0!\n",
      "You are setting values through chained assignment. Currently this works in certain cases, but when using Copy-on-Write (which will become the default behaviour in pandas 3.0) this will never work to update the original DataFrame or Series, because the intermediate object on which we are setting values will behave as a copy.\n",
      "A typical example is when you are setting values in a column of a DataFrame, like:\n",
      "\n",
      "df[\"col\"][row_indexer] = value\n",
      "\n",
      "Use `df.loc[row_indexer, \"col\"] = values` instead, to perform the assignment in a single step and ensure this keeps updating the original `df`.\n",
      "\n",
      "See the caveats in the documentation: https://pandas.pydata.org/pandas-docs/stable/user_guide/indexing.html#returning-a-view-versus-a-copy\n",
      "\n",
      "\n",
      "/var/folders/jm/hx406fwn5ql4cjk_zqccfpqw0000gn/T/ipykernel_64598/3234798448.py:3: SettingWithCopyWarning:\n",
      "\n",
      "\n",
      "A value is trying to be set on a copy of a slice from a DataFrame\n",
      "\n",
      "See the caveats in the documentation: https://pandas.pydata.org/pandas-docs/stable/user_guide/indexing.html#returning-a-view-versus-a-copy\n",
      "\n"
     ]
    }
   ],
   "source": [
    "df=pd.read_excel('3_20250123_Rice visualization.xlsx',sheet_name=\"Area distribution percentage\")\n",
    "df.drop(index=21, inplace=True)\n",
    "df[\"Province_EN\"][45]=\"bangkokmetropolis\""
   ]
  },
  {
   "cell_type": "code",
   "execution_count": 28,
   "metadata": {},
   "outputs": [],
   "source": [
    "df2=df.iloc[62:]"
   ]
  },
  {
   "cell_type": "code",
   "execution_count": 29,
   "metadata": {},
   "outputs": [
    {
     "data": {
      "text/html": [
       "<div>\n",
       "<style scoped>\n",
       "    .dataframe tbody tr th:only-of-type {\n",
       "        vertical-align: middle;\n",
       "    }\n",
       "\n",
       "    .dataframe tbody tr th {\n",
       "        vertical-align: top;\n",
       "    }\n",
       "\n",
       "    .dataframe thead th {\n",
       "        text-align: right;\n",
       "    }\n",
       "</style>\n",
       "<table border=\"1\" class=\"dataframe\">\n",
       "  <thead>\n",
       "    <tr style=\"text-align: right;\">\n",
       "      <th></th>\n",
       "      <th>No.</th>\n",
       "      <th>Province_TH</th>\n",
       "      <th>Province_EN</th>\n",
       "      <th>Region_TH</th>\n",
       "      <th>Region_EN</th>\n",
       "      <th>&lt;2 ไร่</th>\n",
       "      <th>2 - 6 ไร่</th>\n",
       "      <th>6 - 10 ไร่</th>\n",
       "      <th>10 - 12 ไร่</th>\n",
       "      <th>20 - 40 ไร่</th>\n",
       "      <th>40 - 60 ไร่</th>\n",
       "      <th>60 - 100 ไร่</th>\n",
       "      <th>100 - 140 ไร่</th>\n",
       "      <th>&gt; 140 ไร่</th>\n",
       "    </tr>\n",
       "  </thead>\n",
       "  <tbody>\n",
       "    <tr>\n",
       "      <th>63</th>\n",
       "      <td>73</td>\n",
       "      <td>ชุมพร</td>\n",
       "      <td>CHUMPHON</td>\n",
       "      <td>ภาคใต้</td>\n",
       "      <td>SOUTH</td>\n",
       "      <td>7.96</td>\n",
       "      <td>40.56</td>\n",
       "      <td>35.93</td>\n",
       "      <td>14.07</td>\n",
       "      <td>1.48</td>\n",
       "      <td>-</td>\n",
       "      <td>-</td>\n",
       "      <td>-</td>\n",
       "      <td>-</td>\n",
       "    </tr>\n",
       "    <tr>\n",
       "      <th>64</th>\n",
       "      <td>74</td>\n",
       "      <td>ระนอง</td>\n",
       "      <td>RANONG</td>\n",
       "      <td>ภาคใต้</td>\n",
       "      <td>SOUTH</td>\n",
       "      <td>5.97</td>\n",
       "      <td>46.27</td>\n",
       "      <td>32.83</td>\n",
       "      <td>14.93</td>\n",
       "      <td>-</td>\n",
       "      <td>-</td>\n",
       "      <td>-</td>\n",
       "      <td>-</td>\n",
       "      <td>-</td>\n",
       "    </tr>\n",
       "    <tr>\n",
       "      <th>65</th>\n",
       "      <td>75</td>\n",
       "      <td>สุราษฎร์ธานี</td>\n",
       "      <td>SURAT THANI</td>\n",
       "      <td>ภาคใต้</td>\n",
       "      <td>SOUTH</td>\n",
       "      <td>4.64</td>\n",
       "      <td>41.69</td>\n",
       "      <td>27.37</td>\n",
       "      <td>19.81</td>\n",
       "      <td>6.49</td>\n",
       "      <td>-</td>\n",
       "      <td>-</td>\n",
       "      <td>-</td>\n",
       "      <td>-</td>\n",
       "    </tr>\n",
       "    <tr>\n",
       "      <th>66</th>\n",
       "      <td>76</td>\n",
       "      <td>พังงา</td>\n",
       "      <td>PHANG NGA</td>\n",
       "      <td>ภาคใต้</td>\n",
       "      <td>SOUTH</td>\n",
       "      <td>13.31</td>\n",
       "      <td>48.12</td>\n",
       "      <td>29.35</td>\n",
       "      <td>9.22</td>\n",
       "      <td>-</td>\n",
       "      <td>-</td>\n",
       "      <td>-</td>\n",
       "      <td>-</td>\n",
       "      <td>-</td>\n",
       "    </tr>\n",
       "    <tr>\n",
       "      <th>67</th>\n",
       "      <td>77</td>\n",
       "      <td>ภูเก็ต</td>\n",
       "      <td>PHUKET</td>\n",
       "      <td>ภาคใต้</td>\n",
       "      <td>SOUTH</td>\n",
       "      <td>-</td>\n",
       "      <td>14.29</td>\n",
       "      <td>85.71</td>\n",
       "      <td>-</td>\n",
       "      <td>-</td>\n",
       "      <td>-</td>\n",
       "      <td>-</td>\n",
       "      <td>-</td>\n",
       "      <td>-</td>\n",
       "    </tr>\n",
       "  </tbody>\n",
       "</table>\n",
       "</div>"
      ],
      "text/plain": [
       "    No.   Province_TH  Province_EN Region_TH Region_EN <2 ไร่  2 - 6 ไร่  \\\n",
       "63   73         ชุมพร     CHUMPHON    ภาคใต้     SOUTH   7.96      40.56   \n",
       "64   74         ระนอง       RANONG    ภาคใต้     SOUTH   5.97      46.27   \n",
       "65   75  สุราษฎร์ธานี  SURAT THANI    ภาคใต้     SOUTH   4.64      41.69   \n",
       "66   76         พังงา    PHANG NGA    ภาคใต้     SOUTH  13.31      48.12   \n",
       "67   77        ภูเก็ต       PHUKET    ภาคใต้     SOUTH      -      14.29   \n",
       "\n",
       "    6 - 10 ไร่ 10 - 12 ไร่ 20 - 40 ไร่ 40 - 60 ไร่ 60 - 100 ไร่ 100 - 140 ไร่  \\\n",
       "63       35.93       14.07        1.48           -            -             -   \n",
       "64       32.83       14.93           -           -            -             -   \n",
       "65       27.37       19.81        6.49           -            -             -   \n",
       "66       29.35        9.22           -           -            -             -   \n",
       "67       85.71           -           -           -            -             -   \n",
       "\n",
       "   > 140 ไร่  \n",
       "63         -  \n",
       "64         -  \n",
       "65         -  \n",
       "66         -  \n",
       "67         -  "
      ]
     },
     "execution_count": 29,
     "metadata": {},
     "output_type": "execute_result"
    }
   ],
   "source": [
    "df2.head()"
   ]
  },
  {
   "cell_type": "code",
   "execution_count": 30,
   "metadata": {},
   "outputs": [
    {
     "data": {
      "application/vnd.plotly.v1+json": {
       "config": {
        "plotlyServerURL": "https://plot.ly"
       },
       "data": [
        {
         "alignmentgroup": "True",
         "hovertemplate": "ขนาดที่ดิน=<2 ไร่<br>Province_TH=%{x}<br>จำนวนที่ดิน=%{y}<extra></extra>",
         "legendgroup": "<2 ไร่",
         "marker": {
          "color": "#636efa",
          "pattern": {
           "shape": ""
          }
         },
         "name": "<2 ไร่",
         "offsetgroup": "<2 ไร่",
         "orientation": "v",
         "showlegend": true,
         "textposition": "auto",
         "type": "bar",
         "x": [
          "ชุมพร",
          "ระนอง",
          "สุราษฎร์ธานี",
          "พังงา",
          "ภูเก็ต",
          "กระบี่",
          "ตรัง",
          "นครศรีธรรมราช",
          "พัทลุง",
          "สงขลา",
          "สตูล",
          "ปัตตานี",
          "ยะลา",
          "นราธิวาส"
         ],
         "xaxis": "x",
         "y": [
          7.96,
          5.97,
          4.64,
          13.31,
          "-",
          8.82,
          7.1,
          2.68,
          8.96,
          4.86,
          12.02,
          5.43,
          2.53,
          3.24
         ],
         "yaxis": "y"
        },
        {
         "alignmentgroup": "True",
         "hovertemplate": "ขนาดที่ดิน=2 - 6 ไร่<br>Province_TH=%{x}<br>จำนวนที่ดิน=%{y}<extra></extra>",
         "legendgroup": "2 - 6 ไร่",
         "marker": {
          "color": "#EF553B",
          "pattern": {
           "shape": ""
          }
         },
         "name": "2 - 6 ไร่",
         "offsetgroup": "2 - 6 ไร่",
         "orientation": "v",
         "showlegend": true,
         "textposition": "auto",
         "type": "bar",
         "x": [
          "ชุมพร",
          "ระนอง",
          "สุราษฎร์ธานี",
          "พังงา",
          "ภูเก็ต",
          "กระบี่",
          "ตรัง",
          "นครศรีธรรมราช",
          "พัทลุง",
          "สงขลา",
          "สตูล",
          "ปัตตานี",
          "ยะลา",
          "นราธิวาส"
         ],
         "xaxis": "x",
         "y": [
          40.56,
          46.27,
          41.69,
          48.12,
          14.29,
          51.03,
          61.61,
          22.56,
          38.24,
          21.87,
          65.56,
          39.93,
          40.53,
          71.56
         ],
         "yaxis": "y"
        },
        {
         "alignmentgroup": "True",
         "hovertemplate": "ขนาดที่ดิน=6 - 10 ไร่<br>Province_TH=%{x}<br>จำนวนที่ดิน=%{y}<extra></extra>",
         "legendgroup": "6 - 10 ไร่",
         "marker": {
          "color": "#00cc96",
          "pattern": {
           "shape": ""
          }
         },
         "name": "6 - 10 ไร่",
         "offsetgroup": "6 - 10 ไร่",
         "orientation": "v",
         "showlegend": true,
         "textposition": "auto",
         "type": "bar",
         "x": [
          "ชุมพร",
          "ระนอง",
          "สุราษฎร์ธานี",
          "พังงา",
          "ภูเก็ต",
          "กระบี่",
          "ตรัง",
          "นครศรีธรรมราช",
          "พัทลุง",
          "สงขลา",
          "สตูล",
          "ปัตตานี",
          "ยะลา",
          "นราธิวาส"
         ],
         "xaxis": "x",
         "y": [
          35.93,
          32.83,
          27.37,
          29.35,
          85.71,
          26.03,
          19.17,
          21.64,
          24.37,
          22.09,
          17.48,
          40.51,
          55.16,
          12.97
         ],
         "yaxis": "y"
        },
        {
         "alignmentgroup": "True",
         "hovertemplate": "ขนาดที่ดิน=10 - 12 ไร่<br>Province_TH=%{x}<br>จำนวนที่ดิน=%{y}<extra></extra>",
         "legendgroup": "10 - 12 ไร่",
         "marker": {
          "color": "#ab63fa",
          "pattern": {
           "shape": ""
          }
         },
         "name": "10 - 12 ไร่",
         "offsetgroup": "10 - 12 ไร่",
         "orientation": "v",
         "showlegend": true,
         "textposition": "auto",
         "type": "bar",
         "x": [
          "ชุมพร",
          "ระนอง",
          "สุราษฎร์ธานี",
          "พังงา",
          "ภูเก็ต",
          "กระบี่",
          "ตรัง",
          "นครศรีธรรมราช",
          "พัทลุง",
          "สงขลา",
          "สตูล",
          "ปัตตานี",
          "ยะลา",
          "นราธิวาส"
         ],
         "xaxis": "x",
         "y": [
          14.07,
          14.93,
          19.81,
          9.22,
          "-",
          14.12,
          12.12,
          25.73,
          22.24,
          33.81,
          4.94,
          13.05,
          1.78,
          12.23
         ],
         "yaxis": "y"
        },
        {
         "alignmentgroup": "True",
         "hovertemplate": "ขนาดที่ดิน=20 - 40 ไร่<br>Province_TH=%{x}<br>จำนวนที่ดิน=%{y}<extra></extra>",
         "legendgroup": "20 - 40 ไร่",
         "marker": {
          "color": "#FFA15A",
          "pattern": {
           "shape": ""
          }
         },
         "name": "20 - 40 ไร่",
         "offsetgroup": "20 - 40 ไร่",
         "orientation": "v",
         "showlegend": true,
         "textposition": "auto",
         "type": "bar",
         "x": [
          "ชุมพร",
          "ระนอง",
          "สุราษฎร์ธานี",
          "พังงา",
          "ภูเก็ต",
          "กระบี่",
          "ตรัง",
          "นครศรีธรรมราช",
          "พัทลุง",
          "สงขลา",
          "สตูล",
          "ปัตตานี",
          "ยะลา",
          "นราธิวาส"
         ],
         "xaxis": "x",
         "y": [
          1.48,
          "-",
          6.49,
          "-",
          "-",
          "-",
          "-",
          24.44,
          5.96,
          15.42,
          "-",
          1.08,
          "-",
          "-"
         ],
         "yaxis": "y"
        },
        {
         "alignmentgroup": "True",
         "hovertemplate": "ขนาดที่ดิน=40 - 60 ไร่<br>Province_TH=%{x}<br>จำนวนที่ดิน=%{y}<extra></extra>",
         "legendgroup": "40 - 60 ไร่",
         "marker": {
          "color": "#19d3f3",
          "pattern": {
           "shape": ""
          }
         },
         "name": "40 - 60 ไร่",
         "offsetgroup": "40 - 60 ไร่",
         "orientation": "v",
         "showlegend": true,
         "textposition": "auto",
         "type": "bar",
         "x": [
          "ชุมพร",
          "ระนอง",
          "สุราษฎร์ธานี",
          "พังงา",
          "ภูเก็ต",
          "กระบี่",
          "ตรัง",
          "นครศรีธรรมราช",
          "พัทลุง",
          "สงขลา",
          "สตูล",
          "ปัตตานี",
          "ยะลา",
          "นราธิวาส"
         ],
         "xaxis": "x",
         "y": [
          "-",
          "-",
          "-",
          "-",
          "-",
          "-",
          "-",
          2.95,
          0.23,
          0.93,
          "-",
          "-",
          "-",
          "-"
         ],
         "yaxis": "y"
        },
        {
         "alignmentgroup": "True",
         "hovertemplate": "ขนาดที่ดิน=60 - 100 ไร่<br>Province_TH=%{x}<br>จำนวนที่ดิน=%{y}<extra></extra>",
         "legendgroup": "60 - 100 ไร่",
         "marker": {
          "color": "#FF6692",
          "pattern": {
           "shape": ""
          }
         },
         "name": "60 - 100 ไร่",
         "offsetgroup": "60 - 100 ไร่",
         "orientation": "v",
         "showlegend": true,
         "textposition": "auto",
         "type": "bar",
         "x": [
          "ชุมพร",
          "ระนอง",
          "สุราษฎร์ธานี",
          "พังงา",
          "ภูเก็ต",
          "กระบี่",
          "ตรัง",
          "นครศรีธรรมราช",
          "พัทลุง",
          "สงขลา",
          "สตูล",
          "ปัตตานี",
          "ยะลา",
          "นราธิวาส"
         ],
         "xaxis": "x",
         "y": [
          "-",
          "-",
          "-",
          "-",
          "-",
          "-",
          "-",
          "-",
          "-",
          1.02,
          "-",
          "-",
          "-",
          "-"
         ],
         "yaxis": "y"
        },
        {
         "alignmentgroup": "True",
         "hovertemplate": "ขนาดที่ดิน=100 - 140 ไร่<br>Province_TH=%{x}<br>จำนวนที่ดิน=%{y}<extra></extra>",
         "legendgroup": "100 - 140 ไร่",
         "marker": {
          "color": "#B6E880",
          "pattern": {
           "shape": ""
          }
         },
         "name": "100 - 140 ไร่",
         "offsetgroup": "100 - 140 ไร่",
         "orientation": "v",
         "showlegend": true,
         "textposition": "auto",
         "type": "bar",
         "x": [
          "ชุมพร",
          "ระนอง",
          "สุราษฎร์ธานี",
          "พังงา",
          "ภูเก็ต",
          "กระบี่",
          "ตรัง",
          "นครศรีธรรมราช",
          "พัทลุง",
          "สงขลา",
          "สตูล",
          "ปัตตานี",
          "ยะลา",
          "นราธิวาส"
         ],
         "xaxis": "x",
         "y": [
          "-",
          "-",
          "-",
          "-",
          "-",
          "-",
          "-",
          "-",
          "-",
          "-",
          "-",
          "-",
          "-",
          "-"
         ],
         "yaxis": "y"
        },
        {
         "alignmentgroup": "True",
         "hovertemplate": "ขนาดที่ดิน=> 140 ไร่<br>Province_TH=%{x}<br>จำนวนที่ดิน=%{y}<extra></extra>",
         "legendgroup": "> 140 ไร่",
         "marker": {
          "color": "#FF97FF",
          "pattern": {
           "shape": ""
          }
         },
         "name": "> 140 ไร่",
         "offsetgroup": "> 140 ไร่",
         "orientation": "v",
         "showlegend": true,
         "textposition": "auto",
         "type": "bar",
         "x": [
          "ชุมพร",
          "ระนอง",
          "สุราษฎร์ธานี",
          "พังงา",
          "ภูเก็ต",
          "กระบี่",
          "ตรัง",
          "นครศรีธรรมราช",
          "พัทลุง",
          "สงขลา",
          "สตูล",
          "ปัตตานี",
          "ยะลา",
          "นราธิวาส"
         ],
         "xaxis": "x",
         "y": [
          "-",
          "-",
          "-",
          "-",
          "-",
          "-",
          "-",
          "-",
          "-",
          "-",
          "-",
          "-",
          "-",
          "-"
         ],
         "yaxis": "y"
        }
       ],
       "layout": {
        "barmode": "stack",
        "legend": {
         "title": {
          "text": "ขนาดที่ดิน"
         },
         "tracegroupgap": 0
        },
        "template": {
         "data": {
          "bar": [
           {
            "error_x": {
             "color": "#2a3f5f"
            },
            "error_y": {
             "color": "#2a3f5f"
            },
            "marker": {
             "line": {
              "color": "#E5ECF6",
              "width": 0.5
             },
             "pattern": {
              "fillmode": "overlay",
              "size": 10,
              "solidity": 0.2
             }
            },
            "type": "bar"
           }
          ],
          "barpolar": [
           {
            "marker": {
             "line": {
              "color": "#E5ECF6",
              "width": 0.5
             },
             "pattern": {
              "fillmode": "overlay",
              "size": 10,
              "solidity": 0.2
             }
            },
            "type": "barpolar"
           }
          ],
          "carpet": [
           {
            "aaxis": {
             "endlinecolor": "#2a3f5f",
             "gridcolor": "white",
             "linecolor": "white",
             "minorgridcolor": "white",
             "startlinecolor": "#2a3f5f"
            },
            "baxis": {
             "endlinecolor": "#2a3f5f",
             "gridcolor": "white",
             "linecolor": "white",
             "minorgridcolor": "white",
             "startlinecolor": "#2a3f5f"
            },
            "type": "carpet"
           }
          ],
          "choropleth": [
           {
            "colorbar": {
             "outlinewidth": 0,
             "ticks": ""
            },
            "type": "choropleth"
           }
          ],
          "contour": [
           {
            "colorbar": {
             "outlinewidth": 0,
             "ticks": ""
            },
            "colorscale": [
             [
              0,
              "#0d0887"
             ],
             [
              0.1111111111111111,
              "#46039f"
             ],
             [
              0.2222222222222222,
              "#7201a8"
             ],
             [
              0.3333333333333333,
              "#9c179e"
             ],
             [
              0.4444444444444444,
              "#bd3786"
             ],
             [
              0.5555555555555556,
              "#d8576b"
             ],
             [
              0.6666666666666666,
              "#ed7953"
             ],
             [
              0.7777777777777778,
              "#fb9f3a"
             ],
             [
              0.8888888888888888,
              "#fdca26"
             ],
             [
              1,
              "#f0f921"
             ]
            ],
            "type": "contour"
           }
          ],
          "contourcarpet": [
           {
            "colorbar": {
             "outlinewidth": 0,
             "ticks": ""
            },
            "type": "contourcarpet"
           }
          ],
          "heatmap": [
           {
            "colorbar": {
             "outlinewidth": 0,
             "ticks": ""
            },
            "colorscale": [
             [
              0,
              "#0d0887"
             ],
             [
              0.1111111111111111,
              "#46039f"
             ],
             [
              0.2222222222222222,
              "#7201a8"
             ],
             [
              0.3333333333333333,
              "#9c179e"
             ],
             [
              0.4444444444444444,
              "#bd3786"
             ],
             [
              0.5555555555555556,
              "#d8576b"
             ],
             [
              0.6666666666666666,
              "#ed7953"
             ],
             [
              0.7777777777777778,
              "#fb9f3a"
             ],
             [
              0.8888888888888888,
              "#fdca26"
             ],
             [
              1,
              "#f0f921"
             ]
            ],
            "type": "heatmap"
           }
          ],
          "heatmapgl": [
           {
            "colorbar": {
             "outlinewidth": 0,
             "ticks": ""
            },
            "colorscale": [
             [
              0,
              "#0d0887"
             ],
             [
              0.1111111111111111,
              "#46039f"
             ],
             [
              0.2222222222222222,
              "#7201a8"
             ],
             [
              0.3333333333333333,
              "#9c179e"
             ],
             [
              0.4444444444444444,
              "#bd3786"
             ],
             [
              0.5555555555555556,
              "#d8576b"
             ],
             [
              0.6666666666666666,
              "#ed7953"
             ],
             [
              0.7777777777777778,
              "#fb9f3a"
             ],
             [
              0.8888888888888888,
              "#fdca26"
             ],
             [
              1,
              "#f0f921"
             ]
            ],
            "type": "heatmapgl"
           }
          ],
          "histogram": [
           {
            "marker": {
             "pattern": {
              "fillmode": "overlay",
              "size": 10,
              "solidity": 0.2
             }
            },
            "type": "histogram"
           }
          ],
          "histogram2d": [
           {
            "colorbar": {
             "outlinewidth": 0,
             "ticks": ""
            },
            "colorscale": [
             [
              0,
              "#0d0887"
             ],
             [
              0.1111111111111111,
              "#46039f"
             ],
             [
              0.2222222222222222,
              "#7201a8"
             ],
             [
              0.3333333333333333,
              "#9c179e"
             ],
             [
              0.4444444444444444,
              "#bd3786"
             ],
             [
              0.5555555555555556,
              "#d8576b"
             ],
             [
              0.6666666666666666,
              "#ed7953"
             ],
             [
              0.7777777777777778,
              "#fb9f3a"
             ],
             [
              0.8888888888888888,
              "#fdca26"
             ],
             [
              1,
              "#f0f921"
             ]
            ],
            "type": "histogram2d"
           }
          ],
          "histogram2dcontour": [
           {
            "colorbar": {
             "outlinewidth": 0,
             "ticks": ""
            },
            "colorscale": [
             [
              0,
              "#0d0887"
             ],
             [
              0.1111111111111111,
              "#46039f"
             ],
             [
              0.2222222222222222,
              "#7201a8"
             ],
             [
              0.3333333333333333,
              "#9c179e"
             ],
             [
              0.4444444444444444,
              "#bd3786"
             ],
             [
              0.5555555555555556,
              "#d8576b"
             ],
             [
              0.6666666666666666,
              "#ed7953"
             ],
             [
              0.7777777777777778,
              "#fb9f3a"
             ],
             [
              0.8888888888888888,
              "#fdca26"
             ],
             [
              1,
              "#f0f921"
             ]
            ],
            "type": "histogram2dcontour"
           }
          ],
          "mesh3d": [
           {
            "colorbar": {
             "outlinewidth": 0,
             "ticks": ""
            },
            "type": "mesh3d"
           }
          ],
          "parcoords": [
           {
            "line": {
             "colorbar": {
              "outlinewidth": 0,
              "ticks": ""
             }
            },
            "type": "parcoords"
           }
          ],
          "pie": [
           {
            "automargin": true,
            "type": "pie"
           }
          ],
          "scatter": [
           {
            "fillpattern": {
             "fillmode": "overlay",
             "size": 10,
             "solidity": 0.2
            },
            "type": "scatter"
           }
          ],
          "scatter3d": [
           {
            "line": {
             "colorbar": {
              "outlinewidth": 0,
              "ticks": ""
             }
            },
            "marker": {
             "colorbar": {
              "outlinewidth": 0,
              "ticks": ""
             }
            },
            "type": "scatter3d"
           }
          ],
          "scattercarpet": [
           {
            "marker": {
             "colorbar": {
              "outlinewidth": 0,
              "ticks": ""
             }
            },
            "type": "scattercarpet"
           }
          ],
          "scattergeo": [
           {
            "marker": {
             "colorbar": {
              "outlinewidth": 0,
              "ticks": ""
             }
            },
            "type": "scattergeo"
           }
          ],
          "scattergl": [
           {
            "marker": {
             "colorbar": {
              "outlinewidth": 0,
              "ticks": ""
             }
            },
            "type": "scattergl"
           }
          ],
          "scattermapbox": [
           {
            "marker": {
             "colorbar": {
              "outlinewidth": 0,
              "ticks": ""
             }
            },
            "type": "scattermapbox"
           }
          ],
          "scatterpolar": [
           {
            "marker": {
             "colorbar": {
              "outlinewidth": 0,
              "ticks": ""
             }
            },
            "type": "scatterpolar"
           }
          ],
          "scatterpolargl": [
           {
            "marker": {
             "colorbar": {
              "outlinewidth": 0,
              "ticks": ""
             }
            },
            "type": "scatterpolargl"
           }
          ],
          "scatterternary": [
           {
            "marker": {
             "colorbar": {
              "outlinewidth": 0,
              "ticks": ""
             }
            },
            "type": "scatterternary"
           }
          ],
          "surface": [
           {
            "colorbar": {
             "outlinewidth": 0,
             "ticks": ""
            },
            "colorscale": [
             [
              0,
              "#0d0887"
             ],
             [
              0.1111111111111111,
              "#46039f"
             ],
             [
              0.2222222222222222,
              "#7201a8"
             ],
             [
              0.3333333333333333,
              "#9c179e"
             ],
             [
              0.4444444444444444,
              "#bd3786"
             ],
             [
              0.5555555555555556,
              "#d8576b"
             ],
             [
              0.6666666666666666,
              "#ed7953"
             ],
             [
              0.7777777777777778,
              "#fb9f3a"
             ],
             [
              0.8888888888888888,
              "#fdca26"
             ],
             [
              1,
              "#f0f921"
             ]
            ],
            "type": "surface"
           }
          ],
          "table": [
           {
            "cells": {
             "fill": {
              "color": "#EBF0F8"
             },
             "line": {
              "color": "white"
             }
            },
            "header": {
             "fill": {
              "color": "#C8D4E3"
             },
             "line": {
              "color": "white"
             }
            },
            "type": "table"
           }
          ]
         },
         "layout": {
          "annotationdefaults": {
           "arrowcolor": "#2a3f5f",
           "arrowhead": 0,
           "arrowwidth": 1
          },
          "autotypenumbers": "strict",
          "coloraxis": {
           "colorbar": {
            "outlinewidth": 0,
            "ticks": ""
           }
          },
          "colorscale": {
           "diverging": [
            [
             0,
             "#8e0152"
            ],
            [
             0.1,
             "#c51b7d"
            ],
            [
             0.2,
             "#de77ae"
            ],
            [
             0.3,
             "#f1b6da"
            ],
            [
             0.4,
             "#fde0ef"
            ],
            [
             0.5,
             "#f7f7f7"
            ],
            [
             0.6,
             "#e6f5d0"
            ],
            [
             0.7,
             "#b8e186"
            ],
            [
             0.8,
             "#7fbc41"
            ],
            [
             0.9,
             "#4d9221"
            ],
            [
             1,
             "#276419"
            ]
           ],
           "sequential": [
            [
             0,
             "#0d0887"
            ],
            [
             0.1111111111111111,
             "#46039f"
            ],
            [
             0.2222222222222222,
             "#7201a8"
            ],
            [
             0.3333333333333333,
             "#9c179e"
            ],
            [
             0.4444444444444444,
             "#bd3786"
            ],
            [
             0.5555555555555556,
             "#d8576b"
            ],
            [
             0.6666666666666666,
             "#ed7953"
            ],
            [
             0.7777777777777778,
             "#fb9f3a"
            ],
            [
             0.8888888888888888,
             "#fdca26"
            ],
            [
             1,
             "#f0f921"
            ]
           ],
           "sequentialminus": [
            [
             0,
             "#0d0887"
            ],
            [
             0.1111111111111111,
             "#46039f"
            ],
            [
             0.2222222222222222,
             "#7201a8"
            ],
            [
             0.3333333333333333,
             "#9c179e"
            ],
            [
             0.4444444444444444,
             "#bd3786"
            ],
            [
             0.5555555555555556,
             "#d8576b"
            ],
            [
             0.6666666666666666,
             "#ed7953"
            ],
            [
             0.7777777777777778,
             "#fb9f3a"
            ],
            [
             0.8888888888888888,
             "#fdca26"
            ],
            [
             1,
             "#f0f921"
            ]
           ]
          },
          "colorway": [
           "#636efa",
           "#EF553B",
           "#00cc96",
           "#ab63fa",
           "#FFA15A",
           "#19d3f3",
           "#FF6692",
           "#B6E880",
           "#FF97FF",
           "#FECB52"
          ],
          "font": {
           "color": "#2a3f5f"
          },
          "geo": {
           "bgcolor": "white",
           "lakecolor": "white",
           "landcolor": "#E5ECF6",
           "showlakes": true,
           "showland": true,
           "subunitcolor": "white"
          },
          "hoverlabel": {
           "align": "left"
          },
          "hovermode": "closest",
          "mapbox": {
           "style": "light"
          },
          "paper_bgcolor": "white",
          "plot_bgcolor": "#E5ECF6",
          "polar": {
           "angularaxis": {
            "gridcolor": "white",
            "linecolor": "white",
            "ticks": ""
           },
           "bgcolor": "#E5ECF6",
           "radialaxis": {
            "gridcolor": "white",
            "linecolor": "white",
            "ticks": ""
           }
          },
          "scene": {
           "xaxis": {
            "backgroundcolor": "#E5ECF6",
            "gridcolor": "white",
            "gridwidth": 2,
            "linecolor": "white",
            "showbackground": true,
            "ticks": "",
            "zerolinecolor": "white"
           },
           "yaxis": {
            "backgroundcolor": "#E5ECF6",
            "gridcolor": "white",
            "gridwidth": 2,
            "linecolor": "white",
            "showbackground": true,
            "ticks": "",
            "zerolinecolor": "white"
           },
           "zaxis": {
            "backgroundcolor": "#E5ECF6",
            "gridcolor": "white",
            "gridwidth": 2,
            "linecolor": "white",
            "showbackground": true,
            "ticks": "",
            "zerolinecolor": "white"
           }
          },
          "shapedefaults": {
           "line": {
            "color": "#2a3f5f"
           }
          },
          "ternary": {
           "aaxis": {
            "gridcolor": "white",
            "linecolor": "white",
            "ticks": ""
           },
           "baxis": {
            "gridcolor": "white",
            "linecolor": "white",
            "ticks": ""
           },
           "bgcolor": "#E5ECF6",
           "caxis": {
            "gridcolor": "white",
            "linecolor": "white",
            "ticks": ""
           }
          },
          "title": {
           "x": 0.05
          },
          "xaxis": {
           "automargin": true,
           "gridcolor": "white",
           "linecolor": "white",
           "ticks": "",
           "title": {
            "standoff": 15
           },
           "zerolinecolor": "white",
           "zerolinewidth": 2
          },
          "yaxis": {
           "automargin": true,
           "gridcolor": "white",
           "linecolor": "white",
           "ticks": "",
           "title": {
            "standoff": 15
           },
           "zerolinecolor": "white",
           "zerolinewidth": 2
          }
         }
        },
        "title": {
         "text": "การกระจายพื้นที่ที่ดินในแต่ละจังหวัด (กราฟแท่งสะสม)"
        },
        "xaxis": {
         "anchor": "y",
         "domain": [
          0,
          1
         ],
         "title": {
          "text": "Province_TH"
         }
        },
        "yaxis": {
         "anchor": "x",
         "domain": [
          0,
          1
         ],
         "title": {
          "text": "จำนวนที่ดิน"
         }
        }
       }
      }
     },
     "metadata": {},
     "output_type": "display_data"
    }
   ],
   "source": [
    "df_long = pd.melt(df2, \n",
    "                  id_vars=[\"Province_TH\"], \n",
    "                  value_vars=[\"<2 ไร่\", \"2 - 6 ไร่\", \"6 - 10 ไร่\", \"10 - 12 ไร่\", \"20 - 40 ไร่\", \"40 - 60 ไร่\", \"60 - 100 ไร่\", \"100 - 140 ไร่\", \"> 140 ไร่\"],\n",
    "                  var_name=\"Size\", \n",
    "                  value_name=\"Area\")\n",
    "\n",
    "# สร้างกราฟแท่งสะสม\n",
    "fig = px.bar(df_long, \n",
    "             x=\"Province_TH\", \n",
    "             y=\"Area\", \n",
    "             color=\"Size\", \n",
    "             title=\"การกระจายพื้นที่ที่ดินในแต่ละจังหวัด (กราฟแท่งสะสม)\", \n",
    "             labels={\"Area\": \"จำนวนที่ดิน\", \"Size\": \"ขนาดที่ดิน\"}, \n",
    "             barmode=\"stack\")\n",
    "\n",
    "fig.show()"
   ]
  },
  {
   "cell_type": "code",
   "execution_count": 33,
   "metadata": {},
   "outputs": [
    {
     "data": {
      "application/vnd.plotly.v1+json": {
       "config": {
        "plotlyServerURL": "https://plot.ly"
       },
       "data": [
        {
         "alignmentgroup": "True",
         "bingroup": "x",
         "histfunc": "sum",
         "hovertemplate": "Province_TH=ชุมพร<br>ขนาดที่ดิน=%{x}<br>sum of จำนวนที่ดิน=%{y}<extra></extra>",
         "legendgroup": "ชุมพร",
         "marker": {
          "color": "#636efa",
          "pattern": {
           "shape": ""
          }
         },
         "name": "ชุมพร",
         "offsetgroup": "ชุมพร",
         "orientation": "v",
         "showlegend": true,
         "texttemplate": "%{value:.2f}",
         "type": "histogram",
         "x": [
          "<2 ไร่",
          "2 - 6 ไร่",
          "6 - 10 ไร่",
          "10 - 12 ไร่",
          "20 - 40 ไร่",
          "40 - 60 ไร่",
          "60 - 100 ไร่",
          "100 - 140 ไร่",
          "> 140 ไร่"
         ],
         "xaxis": "x",
         "y": [
          7.96,
          40.56,
          35.93,
          14.07,
          1.48,
          "-",
          "-",
          "-",
          "-"
         ],
         "yaxis": "y"
        }
       ],
       "frames": [
        {
         "data": [
          {
           "alignmentgroup": "True",
           "bingroup": "x",
           "histfunc": "sum",
           "hovertemplate": "Province_TH=ชุมพร<br>ขนาดที่ดิน=%{x}<br>sum of จำนวนที่ดิน=%{y}<extra></extra>",
           "legendgroup": "ชุมพร",
           "marker": {
            "color": "#636efa",
            "pattern": {
             "shape": ""
            }
           },
           "name": "ชุมพร",
           "offsetgroup": "ชุมพร",
           "orientation": "v",
           "showlegend": true,
           "texttemplate": "%{value:.2f}",
           "type": "histogram",
           "x": [
            "<2 ไร่",
            "2 - 6 ไร่",
            "6 - 10 ไร่",
            "10 - 12 ไร่",
            "20 - 40 ไร่",
            "40 - 60 ไร่",
            "60 - 100 ไร่",
            "100 - 140 ไร่",
            "> 140 ไร่"
           ],
           "xaxis": "x",
           "y": [
            7.96,
            40.56,
            35.93,
            14.07,
            1.48,
            "-",
            "-",
            "-",
            "-"
           ],
           "yaxis": "y"
          }
         ],
         "name": "ชุมพร"
        },
        {
         "data": [
          {
           "alignmentgroup": "True",
           "bingroup": "x",
           "histfunc": "sum",
           "hovertemplate": "Province_TH=ระนอง<br>ขนาดที่ดิน=%{x}<br>sum of จำนวนที่ดิน=%{y}<extra></extra>",
           "legendgroup": "ระนอง",
           "marker": {
            "color": "#EF553B",
            "pattern": {
             "shape": ""
            }
           },
           "name": "ระนอง",
           "offsetgroup": "ระนอง",
           "orientation": "v",
           "showlegend": true,
           "texttemplate": "%{value:.2f}",
           "type": "histogram",
           "x": [
            "<2 ไร่",
            "2 - 6 ไร่",
            "6 - 10 ไร่",
            "10 - 12 ไร่",
            "20 - 40 ไร่",
            "40 - 60 ไร่",
            "60 - 100 ไร่",
            "100 - 140 ไร่",
            "> 140 ไร่"
           ],
           "xaxis": "x",
           "y": [
            5.97,
            46.27,
            32.83,
            14.93,
            "-",
            "-",
            "-",
            "-",
            "-"
           ],
           "yaxis": "y"
          }
         ],
         "name": "ระนอง"
        },
        {
         "data": [
          {
           "alignmentgroup": "True",
           "bingroup": "x",
           "histfunc": "sum",
           "hovertemplate": "Province_TH=สุราษฎร์ธานี<br>ขนาดที่ดิน=%{x}<br>sum of จำนวนที่ดิน=%{y}<extra></extra>",
           "legendgroup": "สุราษฎร์ธานี",
           "marker": {
            "color": "#00cc96",
            "pattern": {
             "shape": ""
            }
           },
           "name": "สุราษฎร์ธานี",
           "offsetgroup": "สุราษฎร์ธานี",
           "orientation": "v",
           "showlegend": true,
           "texttemplate": "%{value:.2f}",
           "type": "histogram",
           "x": [
            "<2 ไร่",
            "2 - 6 ไร่",
            "6 - 10 ไร่",
            "10 - 12 ไร่",
            "20 - 40 ไร่",
            "40 - 60 ไร่",
            "60 - 100 ไร่",
            "100 - 140 ไร่",
            "> 140 ไร่"
           ],
           "xaxis": "x",
           "y": [
            4.64,
            41.69,
            27.37,
            19.81,
            6.49,
            "-",
            "-",
            "-",
            "-"
           ],
           "yaxis": "y"
          }
         ],
         "name": "สุราษฎร์ธานี"
        },
        {
         "data": [
          {
           "alignmentgroup": "True",
           "bingroup": "x",
           "histfunc": "sum",
           "hovertemplate": "Province_TH=พังงา<br>ขนาดที่ดิน=%{x}<br>sum of จำนวนที่ดิน=%{y}<extra></extra>",
           "legendgroup": "พังงา",
           "marker": {
            "color": "#ab63fa",
            "pattern": {
             "shape": ""
            }
           },
           "name": "พังงา",
           "offsetgroup": "พังงา",
           "orientation": "v",
           "showlegend": true,
           "texttemplate": "%{value:.2f}",
           "type": "histogram",
           "x": [
            "<2 ไร่",
            "2 - 6 ไร่",
            "6 - 10 ไร่",
            "10 - 12 ไร่",
            "20 - 40 ไร่",
            "40 - 60 ไร่",
            "60 - 100 ไร่",
            "100 - 140 ไร่",
            "> 140 ไร่"
           ],
           "xaxis": "x",
           "y": [
            13.31,
            48.12,
            29.35,
            9.22,
            "-",
            "-",
            "-",
            "-",
            "-"
           ],
           "yaxis": "y"
          }
         ],
         "name": "พังงา"
        },
        {
         "data": [
          {
           "alignmentgroup": "True",
           "bingroup": "x",
           "histfunc": "sum",
           "hovertemplate": "Province_TH=ภูเก็ต<br>ขนาดที่ดิน=%{x}<br>sum of จำนวนที่ดิน=%{y}<extra></extra>",
           "legendgroup": "ภูเก็ต",
           "marker": {
            "color": "#FFA15A",
            "pattern": {
             "shape": ""
            }
           },
           "name": "ภูเก็ต",
           "offsetgroup": "ภูเก็ต",
           "orientation": "v",
           "showlegend": true,
           "texttemplate": "%{value:.2f}",
           "type": "histogram",
           "x": [
            "<2 ไร่",
            "2 - 6 ไร่",
            "6 - 10 ไร่",
            "10 - 12 ไร่",
            "20 - 40 ไร่",
            "40 - 60 ไร่",
            "60 - 100 ไร่",
            "100 - 140 ไร่",
            "> 140 ไร่"
           ],
           "xaxis": "x",
           "y": [
            "-",
            14.29,
            85.71,
            "-",
            "-",
            "-",
            "-",
            "-",
            "-"
           ],
           "yaxis": "y"
          }
         ],
         "name": "ภูเก็ต"
        },
        {
         "data": [
          {
           "alignmentgroup": "True",
           "bingroup": "x",
           "histfunc": "sum",
           "hovertemplate": "Province_TH=กระบี่<br>ขนาดที่ดิน=%{x}<br>sum of จำนวนที่ดิน=%{y}<extra></extra>",
           "legendgroup": "กระบี่",
           "marker": {
            "color": "#19d3f3",
            "pattern": {
             "shape": ""
            }
           },
           "name": "กระบี่",
           "offsetgroup": "กระบี่",
           "orientation": "v",
           "showlegend": true,
           "texttemplate": "%{value:.2f}",
           "type": "histogram",
           "x": [
            "<2 ไร่",
            "2 - 6 ไร่",
            "6 - 10 ไร่",
            "10 - 12 ไร่",
            "20 - 40 ไร่",
            "40 - 60 ไร่",
            "60 - 100 ไร่",
            "100 - 140 ไร่",
            "> 140 ไร่"
           ],
           "xaxis": "x",
           "y": [
            8.82,
            51.03,
            26.03,
            14.12,
            "-",
            "-",
            "-",
            "-",
            "-"
           ],
           "yaxis": "y"
          }
         ],
         "name": "กระบี่"
        },
        {
         "data": [
          {
           "alignmentgroup": "True",
           "bingroup": "x",
           "histfunc": "sum",
           "hovertemplate": "Province_TH=ตรัง<br>ขนาดที่ดิน=%{x}<br>sum of จำนวนที่ดิน=%{y}<extra></extra>",
           "legendgroup": "ตรัง",
           "marker": {
            "color": "#FF6692",
            "pattern": {
             "shape": ""
            }
           },
           "name": "ตรัง",
           "offsetgroup": "ตรัง",
           "orientation": "v",
           "showlegend": true,
           "texttemplate": "%{value:.2f}",
           "type": "histogram",
           "x": [
            "<2 ไร่",
            "2 - 6 ไร่",
            "6 - 10 ไร่",
            "10 - 12 ไร่",
            "20 - 40 ไร่",
            "40 - 60 ไร่",
            "60 - 100 ไร่",
            "100 - 140 ไร่",
            "> 140 ไร่"
           ],
           "xaxis": "x",
           "y": [
            7.1,
            61.61,
            19.17,
            12.12,
            "-",
            "-",
            "-",
            "-",
            "-"
           ],
           "yaxis": "y"
          }
         ],
         "name": "ตรัง"
        },
        {
         "data": [
          {
           "alignmentgroup": "True",
           "bingroup": "x",
           "histfunc": "sum",
           "hovertemplate": "Province_TH=นครศรีธรรมราช<br>ขนาดที่ดิน=%{x}<br>sum of จำนวนที่ดิน=%{y}<extra></extra>",
           "legendgroup": "นครศรีธรรมราช",
           "marker": {
            "color": "#B6E880",
            "pattern": {
             "shape": ""
            }
           },
           "name": "นครศรีธรรมราช",
           "offsetgroup": "นครศรีธรรมราช",
           "orientation": "v",
           "showlegend": true,
           "texttemplate": "%{value:.2f}",
           "type": "histogram",
           "x": [
            "<2 ไร่",
            "2 - 6 ไร่",
            "6 - 10 ไร่",
            "10 - 12 ไร่",
            "20 - 40 ไร่",
            "40 - 60 ไร่",
            "60 - 100 ไร่",
            "100 - 140 ไร่",
            "> 140 ไร่"
           ],
           "xaxis": "x",
           "y": [
            2.68,
            22.56,
            21.64,
            25.73,
            24.44,
            2.95,
            "-",
            "-",
            "-"
           ],
           "yaxis": "y"
          }
         ],
         "name": "นครศรีธรรมราช"
        },
        {
         "data": [
          {
           "alignmentgroup": "True",
           "bingroup": "x",
           "histfunc": "sum",
           "hovertemplate": "Province_TH=พัทลุง<br>ขนาดที่ดิน=%{x}<br>sum of จำนวนที่ดิน=%{y}<extra></extra>",
           "legendgroup": "พัทลุง",
           "marker": {
            "color": "#FF97FF",
            "pattern": {
             "shape": ""
            }
           },
           "name": "พัทลุง",
           "offsetgroup": "พัทลุง",
           "orientation": "v",
           "showlegend": true,
           "texttemplate": "%{value:.2f}",
           "type": "histogram",
           "x": [
            "<2 ไร่",
            "2 - 6 ไร่",
            "6 - 10 ไร่",
            "10 - 12 ไร่",
            "20 - 40 ไร่",
            "40 - 60 ไร่",
            "60 - 100 ไร่",
            "100 - 140 ไร่",
            "> 140 ไร่"
           ],
           "xaxis": "x",
           "y": [
            8.96,
            38.24,
            24.37,
            22.24,
            5.96,
            0.23,
            "-",
            "-",
            "-"
           ],
           "yaxis": "y"
          }
         ],
         "name": "พัทลุง"
        },
        {
         "data": [
          {
           "alignmentgroup": "True",
           "bingroup": "x",
           "histfunc": "sum",
           "hovertemplate": "Province_TH=สงขลา<br>ขนาดที่ดิน=%{x}<br>sum of จำนวนที่ดิน=%{y}<extra></extra>",
           "legendgroup": "สงขลา",
           "marker": {
            "color": "#FECB52",
            "pattern": {
             "shape": ""
            }
           },
           "name": "สงขลา",
           "offsetgroup": "สงขลา",
           "orientation": "v",
           "showlegend": true,
           "texttemplate": "%{value:.2f}",
           "type": "histogram",
           "x": [
            "<2 ไร่",
            "2 - 6 ไร่",
            "6 - 10 ไร่",
            "10 - 12 ไร่",
            "20 - 40 ไร่",
            "40 - 60 ไร่",
            "60 - 100 ไร่",
            "100 - 140 ไร่",
            "> 140 ไร่"
           ],
           "xaxis": "x",
           "y": [
            4.86,
            21.87,
            22.09,
            33.81,
            15.42,
            0.93,
            1.02,
            "-",
            "-"
           ],
           "yaxis": "y"
          }
         ],
         "name": "สงขลา"
        },
        {
         "data": [
          {
           "alignmentgroup": "True",
           "bingroup": "x",
           "histfunc": "sum",
           "hovertemplate": "Province_TH=สตูล<br>ขนาดที่ดิน=%{x}<br>sum of จำนวนที่ดิน=%{y}<extra></extra>",
           "legendgroup": "สตูล",
           "marker": {
            "color": "#636efa",
            "pattern": {
             "shape": ""
            }
           },
           "name": "สตูล",
           "offsetgroup": "สตูล",
           "orientation": "v",
           "showlegend": true,
           "texttemplate": "%{value:.2f}",
           "type": "histogram",
           "x": [
            "<2 ไร่",
            "2 - 6 ไร่",
            "6 - 10 ไร่",
            "10 - 12 ไร่",
            "20 - 40 ไร่",
            "40 - 60 ไร่",
            "60 - 100 ไร่",
            "100 - 140 ไร่",
            "> 140 ไร่"
           ],
           "xaxis": "x",
           "y": [
            12.02,
            65.56,
            17.48,
            4.94,
            "-",
            "-",
            "-",
            "-",
            "-"
           ],
           "yaxis": "y"
          }
         ],
         "name": "สตูล"
        },
        {
         "data": [
          {
           "alignmentgroup": "True",
           "bingroup": "x",
           "histfunc": "sum",
           "hovertemplate": "Province_TH=ปัตตานี<br>ขนาดที่ดิน=%{x}<br>sum of จำนวนที่ดิน=%{y}<extra></extra>",
           "legendgroup": "ปัตตานี",
           "marker": {
            "color": "#EF553B",
            "pattern": {
             "shape": ""
            }
           },
           "name": "ปัตตานี",
           "offsetgroup": "ปัตตานี",
           "orientation": "v",
           "showlegend": true,
           "texttemplate": "%{value:.2f}",
           "type": "histogram",
           "x": [
            "<2 ไร่",
            "2 - 6 ไร่",
            "6 - 10 ไร่",
            "10 - 12 ไร่",
            "20 - 40 ไร่",
            "40 - 60 ไร่",
            "60 - 100 ไร่",
            "100 - 140 ไร่",
            "> 140 ไร่"
           ],
           "xaxis": "x",
           "y": [
            5.43,
            39.93,
            40.51,
            13.05,
            1.08,
            "-",
            "-",
            "-",
            "-"
           ],
           "yaxis": "y"
          }
         ],
         "name": "ปัตตานี"
        },
        {
         "data": [
          {
           "alignmentgroup": "True",
           "bingroup": "x",
           "histfunc": "sum",
           "hovertemplate": "Province_TH=ยะลา<br>ขนาดที่ดิน=%{x}<br>sum of จำนวนที่ดิน=%{y}<extra></extra>",
           "legendgroup": "ยะลา",
           "marker": {
            "color": "#00cc96",
            "pattern": {
             "shape": ""
            }
           },
           "name": "ยะลา",
           "offsetgroup": "ยะลา",
           "orientation": "v",
           "showlegend": true,
           "texttemplate": "%{value:.2f}",
           "type": "histogram",
           "x": [
            "<2 ไร่",
            "2 - 6 ไร่",
            "6 - 10 ไร่",
            "10 - 12 ไร่",
            "20 - 40 ไร่",
            "40 - 60 ไร่",
            "60 - 100 ไร่",
            "100 - 140 ไร่",
            "> 140 ไร่"
           ],
           "xaxis": "x",
           "y": [
            2.53,
            40.53,
            55.16,
            1.78,
            "-",
            "-",
            "-",
            "-",
            "-"
           ],
           "yaxis": "y"
          }
         ],
         "name": "ยะลา"
        },
        {
         "data": [
          {
           "alignmentgroup": "True",
           "bingroup": "x",
           "histfunc": "sum",
           "hovertemplate": "Province_TH=นราธิวาส<br>ขนาดที่ดิน=%{x}<br>sum of จำนวนที่ดิน=%{y}<extra></extra>",
           "legendgroup": "นราธิวาส",
           "marker": {
            "color": "#ab63fa",
            "pattern": {
             "shape": ""
            }
           },
           "name": "นราธิวาส",
           "offsetgroup": "นราธิวาส",
           "orientation": "v",
           "showlegend": true,
           "texttemplate": "%{value:.2f}",
           "type": "histogram",
           "x": [
            "<2 ไร่",
            "2 - 6 ไร่",
            "6 - 10 ไร่",
            "10 - 12 ไร่",
            "20 - 40 ไร่",
            "40 - 60 ไร่",
            "60 - 100 ไร่",
            "100 - 140 ไร่",
            "> 140 ไร่"
           ],
           "xaxis": "x",
           "y": [
            3.24,
            71.56,
            12.97,
            12.23,
            "-",
            "-",
            "-",
            "-",
            "-"
           ],
           "yaxis": "y"
          }
         ],
         "name": "นราธิวาส"
        }
       ],
       "layout": {
        "barmode": "relative",
        "legend": {
         "title": {
          "text": "Province_TH"
         },
         "tracegroupgap": 0
        },
        "sliders": [
         {
          "active": 0,
          "currentvalue": {
           "prefix": "Province_TH="
          },
          "len": 0.9,
          "pad": {
           "b": 10,
           "t": 60
          },
          "steps": [
           {
            "args": [
             [
              "ชุมพร"
             ],
             {
              "frame": {
               "duration": 0,
               "redraw": true
              },
              "fromcurrent": true,
              "mode": "immediate",
              "transition": {
               "duration": 0,
               "easing": "linear"
              }
             }
            ],
            "label": "ชุมพร",
            "method": "animate"
           },
           {
            "args": [
             [
              "ระนอง"
             ],
             {
              "frame": {
               "duration": 0,
               "redraw": true
              },
              "fromcurrent": true,
              "mode": "immediate",
              "transition": {
               "duration": 0,
               "easing": "linear"
              }
             }
            ],
            "label": "ระนอง",
            "method": "animate"
           },
           {
            "args": [
             [
              "สุราษฎร์ธานี"
             ],
             {
              "frame": {
               "duration": 0,
               "redraw": true
              },
              "fromcurrent": true,
              "mode": "immediate",
              "transition": {
               "duration": 0,
               "easing": "linear"
              }
             }
            ],
            "label": "สุราษฎร์ธานี",
            "method": "animate"
           },
           {
            "args": [
             [
              "พังงา"
             ],
             {
              "frame": {
               "duration": 0,
               "redraw": true
              },
              "fromcurrent": true,
              "mode": "immediate",
              "transition": {
               "duration": 0,
               "easing": "linear"
              }
             }
            ],
            "label": "พังงา",
            "method": "animate"
           },
           {
            "args": [
             [
              "ภูเก็ต"
             ],
             {
              "frame": {
               "duration": 0,
               "redraw": true
              },
              "fromcurrent": true,
              "mode": "immediate",
              "transition": {
               "duration": 0,
               "easing": "linear"
              }
             }
            ],
            "label": "ภูเก็ต",
            "method": "animate"
           },
           {
            "args": [
             [
              "กระบี่"
             ],
             {
              "frame": {
               "duration": 0,
               "redraw": true
              },
              "fromcurrent": true,
              "mode": "immediate",
              "transition": {
               "duration": 0,
               "easing": "linear"
              }
             }
            ],
            "label": "กระบี่",
            "method": "animate"
           },
           {
            "args": [
             [
              "ตรัง"
             ],
             {
              "frame": {
               "duration": 0,
               "redraw": true
              },
              "fromcurrent": true,
              "mode": "immediate",
              "transition": {
               "duration": 0,
               "easing": "linear"
              }
             }
            ],
            "label": "ตรัง",
            "method": "animate"
           },
           {
            "args": [
             [
              "นครศรีธรรมราช"
             ],
             {
              "frame": {
               "duration": 0,
               "redraw": true
              },
              "fromcurrent": true,
              "mode": "immediate",
              "transition": {
               "duration": 0,
               "easing": "linear"
              }
             }
            ],
            "label": "นครศรีธรรมราช",
            "method": "animate"
           },
           {
            "args": [
             [
              "พัทลุง"
             ],
             {
              "frame": {
               "duration": 0,
               "redraw": true
              },
              "fromcurrent": true,
              "mode": "immediate",
              "transition": {
               "duration": 0,
               "easing": "linear"
              }
             }
            ],
            "label": "พัทลุง",
            "method": "animate"
           },
           {
            "args": [
             [
              "สงขลา"
             ],
             {
              "frame": {
               "duration": 0,
               "redraw": true
              },
              "fromcurrent": true,
              "mode": "immediate",
              "transition": {
               "duration": 0,
               "easing": "linear"
              }
             }
            ],
            "label": "สงขลา",
            "method": "animate"
           },
           {
            "args": [
             [
              "สตูล"
             ],
             {
              "frame": {
               "duration": 0,
               "redraw": true
              },
              "fromcurrent": true,
              "mode": "immediate",
              "transition": {
               "duration": 0,
               "easing": "linear"
              }
             }
            ],
            "label": "สตูล",
            "method": "animate"
           },
           {
            "args": [
             [
              "ปัตตานี"
             ],
             {
              "frame": {
               "duration": 0,
               "redraw": true
              },
              "fromcurrent": true,
              "mode": "immediate",
              "transition": {
               "duration": 0,
               "easing": "linear"
              }
             }
            ],
            "label": "ปัตตานี",
            "method": "animate"
           },
           {
            "args": [
             [
              "ยะลา"
             ],
             {
              "frame": {
               "duration": 0,
               "redraw": true
              },
              "fromcurrent": true,
              "mode": "immediate",
              "transition": {
               "duration": 0,
               "easing": "linear"
              }
             }
            ],
            "label": "ยะลา",
            "method": "animate"
           },
           {
            "args": [
             [
              "นราธิวาส"
             ],
             {
              "frame": {
               "duration": 0,
               "redraw": true
              },
              "fromcurrent": true,
              "mode": "immediate",
              "transition": {
               "duration": 0,
               "easing": "linear"
              }
             }
            ],
            "label": "นราธิวาส",
            "method": "animate"
           }
          ],
          "x": 0.1,
          "xanchor": "left",
          "y": 0,
          "yanchor": "top"
         }
        ],
        "template": {
         "data": {
          "bar": [
           {
            "error_x": {
             "color": "#2a3f5f"
            },
            "error_y": {
             "color": "#2a3f5f"
            },
            "marker": {
             "line": {
              "color": "#E5ECF6",
              "width": 0.5
             },
             "pattern": {
              "fillmode": "overlay",
              "size": 10,
              "solidity": 0.2
             }
            },
            "type": "bar"
           }
          ],
          "barpolar": [
           {
            "marker": {
             "line": {
              "color": "#E5ECF6",
              "width": 0.5
             },
             "pattern": {
              "fillmode": "overlay",
              "size": 10,
              "solidity": 0.2
             }
            },
            "type": "barpolar"
           }
          ],
          "carpet": [
           {
            "aaxis": {
             "endlinecolor": "#2a3f5f",
             "gridcolor": "white",
             "linecolor": "white",
             "minorgridcolor": "white",
             "startlinecolor": "#2a3f5f"
            },
            "baxis": {
             "endlinecolor": "#2a3f5f",
             "gridcolor": "white",
             "linecolor": "white",
             "minorgridcolor": "white",
             "startlinecolor": "#2a3f5f"
            },
            "type": "carpet"
           }
          ],
          "choropleth": [
           {
            "colorbar": {
             "outlinewidth": 0,
             "ticks": ""
            },
            "type": "choropleth"
           }
          ],
          "contour": [
           {
            "colorbar": {
             "outlinewidth": 0,
             "ticks": ""
            },
            "colorscale": [
             [
              0,
              "#0d0887"
             ],
             [
              0.1111111111111111,
              "#46039f"
             ],
             [
              0.2222222222222222,
              "#7201a8"
             ],
             [
              0.3333333333333333,
              "#9c179e"
             ],
             [
              0.4444444444444444,
              "#bd3786"
             ],
             [
              0.5555555555555556,
              "#d8576b"
             ],
             [
              0.6666666666666666,
              "#ed7953"
             ],
             [
              0.7777777777777778,
              "#fb9f3a"
             ],
             [
              0.8888888888888888,
              "#fdca26"
             ],
             [
              1,
              "#f0f921"
             ]
            ],
            "type": "contour"
           }
          ],
          "contourcarpet": [
           {
            "colorbar": {
             "outlinewidth": 0,
             "ticks": ""
            },
            "type": "contourcarpet"
           }
          ],
          "heatmap": [
           {
            "colorbar": {
             "outlinewidth": 0,
             "ticks": ""
            },
            "colorscale": [
             [
              0,
              "#0d0887"
             ],
             [
              0.1111111111111111,
              "#46039f"
             ],
             [
              0.2222222222222222,
              "#7201a8"
             ],
             [
              0.3333333333333333,
              "#9c179e"
             ],
             [
              0.4444444444444444,
              "#bd3786"
             ],
             [
              0.5555555555555556,
              "#d8576b"
             ],
             [
              0.6666666666666666,
              "#ed7953"
             ],
             [
              0.7777777777777778,
              "#fb9f3a"
             ],
             [
              0.8888888888888888,
              "#fdca26"
             ],
             [
              1,
              "#f0f921"
             ]
            ],
            "type": "heatmap"
           }
          ],
          "heatmapgl": [
           {
            "colorbar": {
             "outlinewidth": 0,
             "ticks": ""
            },
            "colorscale": [
             [
              0,
              "#0d0887"
             ],
             [
              0.1111111111111111,
              "#46039f"
             ],
             [
              0.2222222222222222,
              "#7201a8"
             ],
             [
              0.3333333333333333,
              "#9c179e"
             ],
             [
              0.4444444444444444,
              "#bd3786"
             ],
             [
              0.5555555555555556,
              "#d8576b"
             ],
             [
              0.6666666666666666,
              "#ed7953"
             ],
             [
              0.7777777777777778,
              "#fb9f3a"
             ],
             [
              0.8888888888888888,
              "#fdca26"
             ],
             [
              1,
              "#f0f921"
             ]
            ],
            "type": "heatmapgl"
           }
          ],
          "histogram": [
           {
            "marker": {
             "pattern": {
              "fillmode": "overlay",
              "size": 10,
              "solidity": 0.2
             }
            },
            "type": "histogram"
           }
          ],
          "histogram2d": [
           {
            "colorbar": {
             "outlinewidth": 0,
             "ticks": ""
            },
            "colorscale": [
             [
              0,
              "#0d0887"
             ],
             [
              0.1111111111111111,
              "#46039f"
             ],
             [
              0.2222222222222222,
              "#7201a8"
             ],
             [
              0.3333333333333333,
              "#9c179e"
             ],
             [
              0.4444444444444444,
              "#bd3786"
             ],
             [
              0.5555555555555556,
              "#d8576b"
             ],
             [
              0.6666666666666666,
              "#ed7953"
             ],
             [
              0.7777777777777778,
              "#fb9f3a"
             ],
             [
              0.8888888888888888,
              "#fdca26"
             ],
             [
              1,
              "#f0f921"
             ]
            ],
            "type": "histogram2d"
           }
          ],
          "histogram2dcontour": [
           {
            "colorbar": {
             "outlinewidth": 0,
             "ticks": ""
            },
            "colorscale": [
             [
              0,
              "#0d0887"
             ],
             [
              0.1111111111111111,
              "#46039f"
             ],
             [
              0.2222222222222222,
              "#7201a8"
             ],
             [
              0.3333333333333333,
              "#9c179e"
             ],
             [
              0.4444444444444444,
              "#bd3786"
             ],
             [
              0.5555555555555556,
              "#d8576b"
             ],
             [
              0.6666666666666666,
              "#ed7953"
             ],
             [
              0.7777777777777778,
              "#fb9f3a"
             ],
             [
              0.8888888888888888,
              "#fdca26"
             ],
             [
              1,
              "#f0f921"
             ]
            ],
            "type": "histogram2dcontour"
           }
          ],
          "mesh3d": [
           {
            "colorbar": {
             "outlinewidth": 0,
             "ticks": ""
            },
            "type": "mesh3d"
           }
          ],
          "parcoords": [
           {
            "line": {
             "colorbar": {
              "outlinewidth": 0,
              "ticks": ""
             }
            },
            "type": "parcoords"
           }
          ],
          "pie": [
           {
            "automargin": true,
            "type": "pie"
           }
          ],
          "scatter": [
           {
            "fillpattern": {
             "fillmode": "overlay",
             "size": 10,
             "solidity": 0.2
            },
            "type": "scatter"
           }
          ],
          "scatter3d": [
           {
            "line": {
             "colorbar": {
              "outlinewidth": 0,
              "ticks": ""
             }
            },
            "marker": {
             "colorbar": {
              "outlinewidth": 0,
              "ticks": ""
             }
            },
            "type": "scatter3d"
           }
          ],
          "scattercarpet": [
           {
            "marker": {
             "colorbar": {
              "outlinewidth": 0,
              "ticks": ""
             }
            },
            "type": "scattercarpet"
           }
          ],
          "scattergeo": [
           {
            "marker": {
             "colorbar": {
              "outlinewidth": 0,
              "ticks": ""
             }
            },
            "type": "scattergeo"
           }
          ],
          "scattergl": [
           {
            "marker": {
             "colorbar": {
              "outlinewidth": 0,
              "ticks": ""
             }
            },
            "type": "scattergl"
           }
          ],
          "scattermapbox": [
           {
            "marker": {
             "colorbar": {
              "outlinewidth": 0,
              "ticks": ""
             }
            },
            "type": "scattermapbox"
           }
          ],
          "scatterpolar": [
           {
            "marker": {
             "colorbar": {
              "outlinewidth": 0,
              "ticks": ""
             }
            },
            "type": "scatterpolar"
           }
          ],
          "scatterpolargl": [
           {
            "marker": {
             "colorbar": {
              "outlinewidth": 0,
              "ticks": ""
             }
            },
            "type": "scatterpolargl"
           }
          ],
          "scatterternary": [
           {
            "marker": {
             "colorbar": {
              "outlinewidth": 0,
              "ticks": ""
             }
            },
            "type": "scatterternary"
           }
          ],
          "surface": [
           {
            "colorbar": {
             "outlinewidth": 0,
             "ticks": ""
            },
            "colorscale": [
             [
              0,
              "#0d0887"
             ],
             [
              0.1111111111111111,
              "#46039f"
             ],
             [
              0.2222222222222222,
              "#7201a8"
             ],
             [
              0.3333333333333333,
              "#9c179e"
             ],
             [
              0.4444444444444444,
              "#bd3786"
             ],
             [
              0.5555555555555556,
              "#d8576b"
             ],
             [
              0.6666666666666666,
              "#ed7953"
             ],
             [
              0.7777777777777778,
              "#fb9f3a"
             ],
             [
              0.8888888888888888,
              "#fdca26"
             ],
             [
              1,
              "#f0f921"
             ]
            ],
            "type": "surface"
           }
          ],
          "table": [
           {
            "cells": {
             "fill": {
              "color": "#EBF0F8"
             },
             "line": {
              "color": "white"
             }
            },
            "header": {
             "fill": {
              "color": "#C8D4E3"
             },
             "line": {
              "color": "white"
             }
            },
            "type": "table"
           }
          ]
         },
         "layout": {
          "annotationdefaults": {
           "arrowcolor": "#2a3f5f",
           "arrowhead": 0,
           "arrowwidth": 1
          },
          "autotypenumbers": "strict",
          "coloraxis": {
           "colorbar": {
            "outlinewidth": 0,
            "ticks": ""
           }
          },
          "colorscale": {
           "diverging": [
            [
             0,
             "#8e0152"
            ],
            [
             0.1,
             "#c51b7d"
            ],
            [
             0.2,
             "#de77ae"
            ],
            [
             0.3,
             "#f1b6da"
            ],
            [
             0.4,
             "#fde0ef"
            ],
            [
             0.5,
             "#f7f7f7"
            ],
            [
             0.6,
             "#e6f5d0"
            ],
            [
             0.7,
             "#b8e186"
            ],
            [
             0.8,
             "#7fbc41"
            ],
            [
             0.9,
             "#4d9221"
            ],
            [
             1,
             "#276419"
            ]
           ],
           "sequential": [
            [
             0,
             "#0d0887"
            ],
            [
             0.1111111111111111,
             "#46039f"
            ],
            [
             0.2222222222222222,
             "#7201a8"
            ],
            [
             0.3333333333333333,
             "#9c179e"
            ],
            [
             0.4444444444444444,
             "#bd3786"
            ],
            [
             0.5555555555555556,
             "#d8576b"
            ],
            [
             0.6666666666666666,
             "#ed7953"
            ],
            [
             0.7777777777777778,
             "#fb9f3a"
            ],
            [
             0.8888888888888888,
             "#fdca26"
            ],
            [
             1,
             "#f0f921"
            ]
           ],
           "sequentialminus": [
            [
             0,
             "#0d0887"
            ],
            [
             0.1111111111111111,
             "#46039f"
            ],
            [
             0.2222222222222222,
             "#7201a8"
            ],
            [
             0.3333333333333333,
             "#9c179e"
            ],
            [
             0.4444444444444444,
             "#bd3786"
            ],
            [
             0.5555555555555556,
             "#d8576b"
            ],
            [
             0.6666666666666666,
             "#ed7953"
            ],
            [
             0.7777777777777778,
             "#fb9f3a"
            ],
            [
             0.8888888888888888,
             "#fdca26"
            ],
            [
             1,
             "#f0f921"
            ]
           ]
          },
          "colorway": [
           "#636efa",
           "#EF553B",
           "#00cc96",
           "#ab63fa",
           "#FFA15A",
           "#19d3f3",
           "#FF6692",
           "#B6E880",
           "#FF97FF",
           "#FECB52"
          ],
          "font": {
           "color": "#2a3f5f"
          },
          "geo": {
           "bgcolor": "white",
           "lakecolor": "white",
           "landcolor": "#E5ECF6",
           "showlakes": true,
           "showland": true,
           "subunitcolor": "white"
          },
          "hoverlabel": {
           "align": "left"
          },
          "hovermode": "closest",
          "mapbox": {
           "style": "light"
          },
          "paper_bgcolor": "white",
          "plot_bgcolor": "#E5ECF6",
          "polar": {
           "angularaxis": {
            "gridcolor": "white",
            "linecolor": "white",
            "ticks": ""
           },
           "bgcolor": "#E5ECF6",
           "radialaxis": {
            "gridcolor": "white",
            "linecolor": "white",
            "ticks": ""
           }
          },
          "scene": {
           "xaxis": {
            "backgroundcolor": "#E5ECF6",
            "gridcolor": "white",
            "gridwidth": 2,
            "linecolor": "white",
            "showbackground": true,
            "ticks": "",
            "zerolinecolor": "white"
           },
           "yaxis": {
            "backgroundcolor": "#E5ECF6",
            "gridcolor": "white",
            "gridwidth": 2,
            "linecolor": "white",
            "showbackground": true,
            "ticks": "",
            "zerolinecolor": "white"
           },
           "zaxis": {
            "backgroundcolor": "#E5ECF6",
            "gridcolor": "white",
            "gridwidth": 2,
            "linecolor": "white",
            "showbackground": true,
            "ticks": "",
            "zerolinecolor": "white"
           }
          },
          "shapedefaults": {
           "line": {
            "color": "#2a3f5f"
           }
          },
          "ternary": {
           "aaxis": {
            "gridcolor": "white",
            "linecolor": "white",
            "ticks": ""
           },
           "baxis": {
            "gridcolor": "white",
            "linecolor": "white",
            "ticks": ""
           },
           "bgcolor": "#E5ECF6",
           "caxis": {
            "gridcolor": "white",
            "linecolor": "white",
            "ticks": ""
           }
          },
          "title": {
           "x": 0.05
          },
          "xaxis": {
           "automargin": true,
           "gridcolor": "white",
           "linecolor": "white",
           "ticks": "",
           "title": {
            "standoff": 15
           },
           "zerolinecolor": "white",
           "zerolinewidth": 2
          },
          "yaxis": {
           "automargin": true,
           "gridcolor": "white",
           "linecolor": "white",
           "ticks": "",
           "title": {
            "standoff": 15
           },
           "zerolinecolor": "white",
           "zerolinewidth": 2
          }
         }
        },
        "title": {
         "text": "การกระจายพื้นที่ที่ดินในแต่ละจังหวัด (KDE)"
        },
        "updatemenus": [
         {
          "buttons": [
           {
            "args": [
             null,
             {
              "frame": {
               "duration": 500,
               "redraw": true
              },
              "fromcurrent": true,
              "mode": "immediate",
              "transition": {
               "duration": 500,
               "easing": "linear"
              }
             }
            ],
            "label": "&#9654;",
            "method": "animate"
           },
           {
            "args": [
             [
              null
             ],
             {
              "frame": {
               "duration": 0,
               "redraw": true
              },
              "fromcurrent": true,
              "mode": "immediate",
              "transition": {
               "duration": 0,
               "easing": "linear"
              }
             }
            ],
            "label": "&#9724;",
            "method": "animate"
           }
          ],
          "direction": "left",
          "pad": {
           "r": 10,
           "t": 70
          },
          "showactive": false,
          "type": "buttons",
          "x": 0.1,
          "xanchor": "right",
          "y": 0,
          "yanchor": "top"
         }
        ],
        "xaxis": {
         "anchor": "y",
         "domain": [
          0,
          1
         ],
         "title": {
          "text": "ขนาดที่ดิน"
         }
        },
        "yaxis": {
         "anchor": "x",
         "domain": [
          0,
          1
         ],
         "title": {
          "text": "sum of จำนวนที่ดิน"
         }
        }
       }
      }
     },
     "metadata": {},
     "output_type": "display_data"
    }
   ],
   "source": [
    "# สร้าง KDE plot (Density Plot)\n",
    "fig2 = px.histogram(df_long, \n",
    "                         x=\"Size\", \n",
    "                         y=\"Area\", \n",
    "                         color=\"Province_TH\", \n",
    "                         animation_frame=\"Province_TH\",  # ทำให้เป็น animated เมื่อเปลี่ยนจังหวัด\n",
    "                         title=\"การกระจายพื้นที่ที่ดินในแต่ละจังหวัด (KDE)\",\n",
    "                         labels={\"Size\": \"ขนาดที่ดิน\", \"Area\": \"จำนวนที่ดิน\"},\n",
    "                         text_auto=\".2f\")\n",
    "\n",
    "# แสดงกราฟ\n",
    "fig2.show()\n"
   ]
  },
  {
   "cell_type": "code",
   "execution_count": 34,
   "metadata": {},
   "outputs": [],
   "source": [
    "fig2.write_html(\"percent.html\")"
   ]
  },
  {
   "cell_type": "code",
   "execution_count": null,
   "metadata": {},
   "outputs": [],
   "source": []
  }
 ],
 "metadata": {
  "kernelspec": {
   "display_name": "base",
   "language": "python",
   "name": "python3"
  },
  "language_info": {
   "codemirror_mode": {
    "name": "ipython",
    "version": 3
   },
   "file_extension": ".py",
   "mimetype": "text/x-python",
   "name": "python",
   "nbconvert_exporter": "python",
   "pygments_lexer": "ipython3",
   "version": "3.12.7"
  }
 },
 "nbformat": 4,
 "nbformat_minor": 2
}
